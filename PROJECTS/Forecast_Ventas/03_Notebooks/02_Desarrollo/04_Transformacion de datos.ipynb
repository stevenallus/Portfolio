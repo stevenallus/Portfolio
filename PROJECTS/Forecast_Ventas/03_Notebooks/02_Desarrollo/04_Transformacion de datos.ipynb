{
 "cells": [
  {
   "cell_type": "markdown",
   "id": "d31dea65",
   "metadata": {},
   "source": [
    "# TRANSFORMACIÓN DE DATOS"
   ]
  },
  {
   "cell_type": "markdown",
   "id": "swiss-fault",
   "metadata": {},
   "source": [
    "## IMPORTAR PAQUETES"
   ]
  },
  {
   "cell_type": "code",
   "execution_count": 237,
   "id": "adjacent-toddler",
   "metadata": {},
   "outputs": [],
   "source": [
    "import numpy as np\n",
    "import pandas as pd\n",
    "import matplotlib.pyplot as plt\n",
    "%matplotlib inline\n",
    "from sklearn.preprocessing import OneHotEncoder\n",
    "from category_encoders import TargetEncoder\n",
    "\n",
    "#Automcompletar rápido\n",
    "%config IPCompleter.greedy=True"
   ]
  },
  {
   "cell_type": "markdown",
   "id": "graduate-compensation",
   "metadata": {},
   "source": [
    "## IMPORTAR LOS DATOS"
   ]
  },
  {
   "cell_type": "markdown",
   "id": "3a5b94ef",
   "metadata": {},
   "source": [
    "1.- Sustituir la ruta del proyecto."
   ]
  },
  {
   "cell_type": "code",
   "execution_count": 238,
   "id": "f9d2de58",
   "metadata": {},
   "outputs": [],
   "source": [
    "ruta_proyecto = '../../'"
   ]
  },
  {
   "cell_type": "markdown",
   "id": "c3363765",
   "metadata": {},
   "source": [
    "2.- Nombrar los ficheros de datos."
   ]
  },
  {
   "cell_type": "code",
   "execution_count": 239,
   "id": "a9e2e04a",
   "metadata": {},
   "outputs": [],
   "source": [
    "nombre_cat = 'cat_resultado_eda.pickle'\n",
    "nombre_num = 'num_resultado_eda.pickle'"
   ]
  },
  {
   "cell_type": "markdown",
   "id": "b9825018",
   "metadata": {},
   "source": [
    "3.- Cargar los datos."
   ]
  },
  {
   "cell_type": "code",
   "execution_count": 240,
   "id": "cab6ebcd",
   "metadata": {},
   "outputs": [],
   "source": [
    "cat = pd.read_pickle(ruta_proyecto + '/02_Datos/03_Trabajo/' + nombre_cat)\n",
    "num = pd.read_pickle(ruta_proyecto + '/02_Datos/03_Trabajo/' + nombre_num)"
   ]
  },
  {
   "cell_type": "markdown",
   "id": "9790d322",
   "metadata": {},
   "source": [
    "## NUEVAS VARIABLES"
   ]
  },
  {
   "cell_type": "markdown",
   "id": "94062c60",
   "metadata": {},
   "source": [
    "En este caso ya vienen creadas:\n",
    "\n",
    "* componentes de la fecha\n",
    "* variables de calendario\n",
    "\n",
    "Voy a crear:\n",
    "\n",
    "* las que indentifique en EDA\n",
    "* lags\n",
    "* ventanas móviles\n",
    "\n",
    "Para esta fase necesito volver a unir en un solo dataframe."
   ]
  },
  {
   "cell_type": "code",
   "execution_count": 241,
   "id": "ebcf2d6d",
   "metadata": {},
   "outputs": [
    {
     "data": {
      "text/html": [
       "<div>\n",
       "<style scoped>\n",
       "    .dataframe tbody tr th:only-of-type {\n",
       "        vertical-align: middle;\n",
       "    }\n",
       "\n",
       "    .dataframe tbody tr th {\n",
       "        vertical-align: top;\n",
       "    }\n",
       "\n",
       "    .dataframe thead th {\n",
       "        text-align: right;\n",
       "    }\n",
       "</style>\n",
       "<table border=\"1\" class=\"dataframe\">\n",
       "  <thead>\n",
       "    <tr style=\"text-align: right;\">\n",
       "      <th></th>\n",
       "      <th>warehouse_id</th>\n",
       "      <th>item_id</th>\n",
       "      <th>d</th>\n",
       "      <th>year</th>\n",
       "      <th>month</th>\n",
       "      <th>wday</th>\n",
       "      <th>weekday</th>\n",
       "      <th>event_name_1</th>\n",
       "      <th>event_type_1</th>\n",
       "      <th>wm_yr_wk</th>\n",
       "      <th>ventas</th>\n",
       "      <th>sell_price</th>\n",
       "    </tr>\n",
       "    <tr>\n",
       "      <th>date</th>\n",
       "      <th></th>\n",
       "      <th></th>\n",
       "      <th></th>\n",
       "      <th></th>\n",
       "      <th></th>\n",
       "      <th></th>\n",
       "      <th></th>\n",
       "      <th></th>\n",
       "      <th></th>\n",
       "      <th></th>\n",
       "      <th></th>\n",
       "      <th></th>\n",
       "    </tr>\n",
       "  </thead>\n",
       "  <tbody>\n",
       "    <tr>\n",
       "      <th>2013-01-01</th>\n",
       "      <td>CA_3</td>\n",
       "      <td>BLACK_3_090</td>\n",
       "      <td>d_704</td>\n",
       "      <td>2013</td>\n",
       "      <td>1</td>\n",
       "      <td>4</td>\n",
       "      <td>Tuesday</td>\n",
       "      <td>NewYear</td>\n",
       "      <td>National</td>\n",
       "      <td>11249</td>\n",
       "      <td>0</td>\n",
       "      <td>1.25</td>\n",
       "    </tr>\n",
       "    <tr>\n",
       "      <th>2013-01-01</th>\n",
       "      <td>CA_3</td>\n",
       "      <td>BLACK_3_120</td>\n",
       "      <td>d_704</td>\n",
       "      <td>2013</td>\n",
       "      <td>1</td>\n",
       "      <td>4</td>\n",
       "      <td>Tuesday</td>\n",
       "      <td>NewYear</td>\n",
       "      <td>National</td>\n",
       "      <td>11249</td>\n",
       "      <td>0</td>\n",
       "      <td>4.98</td>\n",
       "    </tr>\n",
       "    <tr>\n",
       "      <th>2013-01-01</th>\n",
       "      <td>CA_3</td>\n",
       "      <td>BLACK_3_202</td>\n",
       "      <td>d_704</td>\n",
       "      <td>2013</td>\n",
       "      <td>1</td>\n",
       "      <td>4</td>\n",
       "      <td>Tuesday</td>\n",
       "      <td>NewYear</td>\n",
       "      <td>National</td>\n",
       "      <td>11249</td>\n",
       "      <td>20</td>\n",
       "      <td>4.28</td>\n",
       "    </tr>\n",
       "    <tr>\n",
       "      <th>2013-01-01</th>\n",
       "      <td>CA_3</td>\n",
       "      <td>BLACK_3_252</td>\n",
       "      <td>d_704</td>\n",
       "      <td>2013</td>\n",
       "      <td>1</td>\n",
       "      <td>4</td>\n",
       "      <td>Tuesday</td>\n",
       "      <td>NewYear</td>\n",
       "      <td>National</td>\n",
       "      <td>11249</td>\n",
       "      <td>34</td>\n",
       "      <td>1.48</td>\n",
       "    </tr>\n",
       "    <tr>\n",
       "      <th>2013-01-01</th>\n",
       "      <td>CA_3</td>\n",
       "      <td>BLACK_3_288</td>\n",
       "      <td>d_704</td>\n",
       "      <td>2013</td>\n",
       "      <td>1</td>\n",
       "      <td>4</td>\n",
       "      <td>Tuesday</td>\n",
       "      <td>NewYear</td>\n",
       "      <td>National</td>\n",
       "      <td>11249</td>\n",
       "      <td>0</td>\n",
       "      <td>NaN</td>\n",
       "    </tr>\n",
       "    <tr>\n",
       "      <th>...</th>\n",
       "      <td>...</td>\n",
       "      <td>...</td>\n",
       "      <td>...</td>\n",
       "      <td>...</td>\n",
       "      <td>...</td>\n",
       "      <td>...</td>\n",
       "      <td>...</td>\n",
       "      <td>...</td>\n",
       "      <td>...</td>\n",
       "      <td>...</td>\n",
       "      <td>...</td>\n",
       "      <td>...</td>\n",
       "    </tr>\n",
       "    <tr>\n",
       "      <th>2015-11-30</th>\n",
       "      <td>CA_4</td>\n",
       "      <td>BLACK_3_329</td>\n",
       "      <td>d_1767</td>\n",
       "      <td>2015</td>\n",
       "      <td>11</td>\n",
       "      <td>3</td>\n",
       "      <td>Monday</td>\n",
       "      <td>Sin_evento</td>\n",
       "      <td>Sin_evento</td>\n",
       "      <td>11544</td>\n",
       "      <td>5</td>\n",
       "      <td>2.98</td>\n",
       "    </tr>\n",
       "    <tr>\n",
       "      <th>2015-11-30</th>\n",
       "      <td>CA_4</td>\n",
       "      <td>BLACK_3_555</td>\n",
       "      <td>d_1767</td>\n",
       "      <td>2015</td>\n",
       "      <td>11</td>\n",
       "      <td>3</td>\n",
       "      <td>Monday</td>\n",
       "      <td>Sin_evento</td>\n",
       "      <td>Sin_evento</td>\n",
       "      <td>11544</td>\n",
       "      <td>4</td>\n",
       "      <td>1.68</td>\n",
       "    </tr>\n",
       "    <tr>\n",
       "      <th>2015-11-30</th>\n",
       "      <td>CA_4</td>\n",
       "      <td>BLACK_3_586</td>\n",
       "      <td>d_1767</td>\n",
       "      <td>2015</td>\n",
       "      <td>11</td>\n",
       "      <td>3</td>\n",
       "      <td>Monday</td>\n",
       "      <td>Sin_evento</td>\n",
       "      <td>Sin_evento</td>\n",
       "      <td>11544</td>\n",
       "      <td>9</td>\n",
       "      <td>1.68</td>\n",
       "    </tr>\n",
       "    <tr>\n",
       "      <th>2015-11-30</th>\n",
       "      <td>CA_4</td>\n",
       "      <td>BLACK_3_587</td>\n",
       "      <td>d_1767</td>\n",
       "      <td>2015</td>\n",
       "      <td>11</td>\n",
       "      <td>3</td>\n",
       "      <td>Monday</td>\n",
       "      <td>Sin_evento</td>\n",
       "      <td>Sin_evento</td>\n",
       "      <td>11544</td>\n",
       "      <td>13</td>\n",
       "      <td>2.48</td>\n",
       "    </tr>\n",
       "    <tr>\n",
       "      <th>2015-11-30</th>\n",
       "      <td>CA_4</td>\n",
       "      <td>BLACK_3_714</td>\n",
       "      <td>d_1767</td>\n",
       "      <td>2015</td>\n",
       "      <td>11</td>\n",
       "      <td>3</td>\n",
       "      <td>Monday</td>\n",
       "      <td>Sin_evento</td>\n",
       "      <td>Sin_evento</td>\n",
       "      <td>11544</td>\n",
       "      <td>9</td>\n",
       "      <td>1.58</td>\n",
       "    </tr>\n",
       "  </tbody>\n",
       "</table>\n",
       "<p>21280 rows × 12 columns</p>\n",
       "</div>"
      ],
      "text/plain": [
       "           warehouse_id      item_id       d  year month wday  weekday  \\\n",
       "date                                                                     \n",
       "2013-01-01         CA_3  BLACK_3_090   d_704  2013     1    4  Tuesday   \n",
       "2013-01-01         CA_3  BLACK_3_120   d_704  2013     1    4  Tuesday   \n",
       "2013-01-01         CA_3  BLACK_3_202   d_704  2013     1    4  Tuesday   \n",
       "2013-01-01         CA_3  BLACK_3_252   d_704  2013     1    4  Tuesday   \n",
       "2013-01-01         CA_3  BLACK_3_288   d_704  2013     1    4  Tuesday   \n",
       "...                 ...          ...     ...   ...   ...  ...      ...   \n",
       "2015-11-30         CA_4  BLACK_3_329  d_1767  2015    11    3   Monday   \n",
       "2015-11-30         CA_4  BLACK_3_555  d_1767  2015    11    3   Monday   \n",
       "2015-11-30         CA_4  BLACK_3_586  d_1767  2015    11    3   Monday   \n",
       "2015-11-30         CA_4  BLACK_3_587  d_1767  2015    11    3   Monday   \n",
       "2015-11-30         CA_4  BLACK_3_714  d_1767  2015    11    3   Monday   \n",
       "\n",
       "           event_name_1 event_type_1  wm_yr_wk  ventas  sell_price  \n",
       "date                                                                \n",
       "2013-01-01      NewYear     National     11249       0        1.25  \n",
       "2013-01-01      NewYear     National     11249       0        4.98  \n",
       "2013-01-01      NewYear     National     11249      20        4.28  \n",
       "2013-01-01      NewYear     National     11249      34        1.48  \n",
       "2013-01-01      NewYear     National     11249       0         NaN  \n",
       "...                 ...          ...       ...     ...         ...  \n",
       "2015-11-30   Sin_evento   Sin_evento     11544       5        2.98  \n",
       "2015-11-30   Sin_evento   Sin_evento     11544       4        1.68  \n",
       "2015-11-30   Sin_evento   Sin_evento     11544       9        1.68  \n",
       "2015-11-30   Sin_evento   Sin_evento     11544      13        2.48  \n",
       "2015-11-30   Sin_evento   Sin_evento     11544       9        1.58  \n",
       "\n",
       "[21280 rows x 12 columns]"
      ]
     },
     "execution_count": 241,
     "metadata": {},
     "output_type": "execute_result"
    }
   ],
   "source": [
    "df = pd.concat([cat,num], axis = 1)\n",
    "df"
   ]
  },
  {
   "cell_type": "markdown",
   "id": "96660f64",
   "metadata": {},
   "source": [
    "### Variable demanda intermitente"
   ]
  },
  {
   "cell_type": "markdown",
   "id": "e9471382",
   "metadata": {},
   "source": [
    "Esta variable va a identificar cuantos días seguidos han transcurrido con ventas cero.\n",
    "\n",
    "La defino como que si los últimos n días han tenido cero ventas entonces hay rotura de stock.\n",
    "\n",
    "Puedo crear varias cambiando el n.\n",
    "\n",
    "Servirá para modelizar."
   ]
  },
  {
   "cell_type": "markdown",
   "id": "650cde28-68cb-4703-adc2-88d156faaaca",
   "metadata": {},
   "source": [
    "#### nota"
   ]
  },
  {
   "cell_type": "markdown",
   "id": "805dc300-59d2-4f1b-a1aa-2c7a163fdff8",
   "metadata": {},
   "source": [
    "Podria calcular la probabilidad con estadistica una variable predeterminada que exista 0 ventas o haya roturas de stock o usar ML para predecir esto....\n",
    "\n",
    "\n",
    "Aun asi, lo importante tambien es ser resolutivo, poner el tiempo justo y necesario, no quiero alargar el proyecto\n",
    "\n",
    "**Practicidad**\n",
    "\n",
    "Creo la funcion rotura_stock\n",
    "\n",
    "Basicamente lo que hacer primero \n",
    "\n",
    "* cero_ventas: crea el indicado 0 ventas, si las ventas son 0 pon un indicador 1\n",
    "\n",
    "Luego se hace una ventana movil para contar en N dias cuantas ventas a habido\n",
    "\n",
    "* rotura_stock: si en esos ultimso 5 dias ha habido 0 ventas entonces me pone un indicador 1\n",
    "\n",
    "Se crea 3 variables de rotura de tock con dias 3 7 15 para que se pueda ver los diferentes patrones, de mas rapido a mas lento\n",
    "\n",
    "Esto es uan variable que tiene en cuenta los datos del mismo dia, es decir el modelo no va a tener esta informacion, porque trabaja sobre el propio dia, por eso creo despues unos lags para que el modelo lo pueda hacer sobre el dia anterior"
   ]
  },
  {
   "cell_type": "code",
   "execution_count": 242,
   "id": "ffc41b6b",
   "metadata": {},
   "outputs": [],
   "source": [
    "def rotura_stock(ventas, n = 5):\n",
    "    cero_ventas = pd.Series(np.where(ventas == 0,1,0))\n",
    "    num_ceros = cero_ventas.rolling(n).sum()\n",
    "    rotura_stock = np.where(num_ceros == n,1,0)\n",
    "    return(rotura_stock)"
   ]
  },
  {
   "cell_type": "code",
   "execution_count": 243,
   "id": "27ba0dc9",
   "metadata": {},
   "outputs": [],
   "source": [
    "df = df.sort_values(by = ['warehouse_id','item_id','date'])"
   ]
  },
  {
   "cell_type": "code",
   "execution_count": 244,
   "id": "15c2fd28",
   "metadata": {},
   "outputs": [],
   "source": [
    "df['rotura_stock_3'] = df.groupby(['warehouse_id','item_id']).ventas.transform(lambda x: rotura_stock(x, 3)).values"
   ]
  },
  {
   "cell_type": "code",
   "execution_count": 245,
   "id": "6eb102ca",
   "metadata": {},
   "outputs": [],
   "source": [
    "df['rotura_stock_7'] = df.groupby(['warehouse_id','item_id']).ventas.transform(lambda x: rotura_stock(x,7)).values"
   ]
  },
  {
   "cell_type": "code",
   "execution_count": 246,
   "id": "3ca8aedb",
   "metadata": {},
   "outputs": [],
   "source": [
    "df['rotura_stock_15'] = df.groupby(['warehouse_id','item_id']).ventas.transform(lambda x: rotura_stock(x,15)).values"
   ]
  },
  {
   "cell_type": "markdown",
   "id": "f8dfac55",
   "metadata": {},
   "source": [
    "### Variables de lag"
   ]
  },
  {
   "cell_type": "markdown",
   "id": "61f3b32c",
   "metadata": {},
   "source": [
    "Creo lags sobre las siguientes variables:\n",
    "\n",
    "* ventas: lags de 15 días\n",
    "* sell_price: lags de 7 días\n",
    "* rotura_stock: lag de un día"
   ]
  },
  {
   "cell_type": "markdown",
   "id": "9a2f6784-01b1-4761-b261-74647614b23c",
   "metadata": {},
   "source": [
    "#### Nota teorica"
   ]
  },
  {
   "cell_type": "markdown",
   "id": "55f82eb1-5121-4824-ad4d-f6072fefbc04",
   "metadata": {},
   "source": [
    "En el precio algo la variable mas corta por si baja puntualmente el precio. \n",
    "\n",
    "Para la rotura de stock un lag de un dia, esto es importante, esto es por la recurrencia, la rotura stock sale de variable ventas, los modelos de ml unicamente puede predecir un dia, entonces encadeno predicciones, hago esa prediccion de ventas para mañana. pero se coge un dia atras para hacer la prediccion. "
   ]
  },
  {
   "cell_type": "code",
   "execution_count": 247,
   "id": "c0f1daca",
   "metadata": {},
   "outputs": [],
   "source": [
    "def crear_lags(df, variable, num_lags = 7):\n",
    "    \n",
    "    #Crea el objeto dataframe\n",
    "    lags = pd.DataFrame()\n",
    "    \n",
    "    #Crea todos los lags\n",
    "    for cada in range(1,num_lags+1):\n",
    "        lags[variable + '_lag_'+ str(cada)] = df[variable].shift(cada)\n",
    "    \n",
    "    #Devuelve el dataframe de lags\n",
    "    return(lags)"
   ]
  },
  {
   "cell_type": "code",
   "execution_count": 248,
   "id": "3f3aa549",
   "metadata": {},
   "outputs": [],
   "source": [
    "lags_sell_price_df = df.groupby(['warehouse_id','item_id'])\\\n",
    "                    .apply(lambda x: crear_lags(df = x, variable = 'sell_price', num_lags= 7))"
   ]
  },
  {
   "cell_type": "code",
   "execution_count": 249,
   "id": "5c4ffcaa",
   "metadata": {},
   "outputs": [],
   "source": [
    "lags_rotura_stock_3_df = df.groupby(['warehouse_id','item_id'])\\\n",
    "                    .apply(lambda x: crear_lags(df = x, variable = 'rotura_stock_3', num_lags= 1))"
   ]
  },
  {
   "cell_type": "code",
   "execution_count": 250,
   "id": "30d05719",
   "metadata": {},
   "outputs": [],
   "source": [
    "lags_rotura_stock_7_df = df.groupby(['warehouse_id','item_id'])\\\n",
    "                    .apply(lambda x: crear_lags(df = x, variable = 'rotura_stock_7', num_lags= 1))"
   ]
  },
  {
   "cell_type": "code",
   "execution_count": 251,
   "id": "19694f95",
   "metadata": {},
   "outputs": [],
   "source": [
    "lags_rotura_stock_15_df = df.groupby(['warehouse_id','item_id'])\\\n",
    "                    .apply(lambda x: crear_lags(df = x, variable = 'rotura_stock_15', num_lags= 1))"
   ]
  },
  {
   "cell_type": "code",
   "execution_count": 252,
   "id": "03c5e6d8",
   "metadata": {},
   "outputs": [],
   "source": [
    "lags_ventas_df = df.groupby(['warehouse_id','item_id'])\\\n",
    "                    .apply(lambda x: crear_lags(df = x, variable = 'ventas', num_lags= 15))"
   ]
  },
  {
   "cell_type": "markdown",
   "id": "c7fbeb70",
   "metadata": {},
   "source": [
    "### Variables de ventanas móviles"
   ]
  },
  {
   "cell_type": "markdown",
   "id": "a2c381a4",
   "metadata": {},
   "source": [
    "Creo tres tipos de ventanas móviles sobre las ventas:\n",
    "\n",
    "* mínimo móvil\n",
    "* media móvil\n",
    "* máximo móvil\n",
    "\n",
    "Cada uno de ellos en el rango de 15 días."
   ]
  },
  {
   "cell_type": "markdown",
   "id": "2b78b7ae-618b-4d65-9424-48a28de1bd38",
   "metadata": {},
   "source": [
    "#### nota"
   ]
  },
  {
   "cell_type": "markdown",
   "id": "4f043424-620e-4e51-bade-4d519dd2affd",
   "metadata": {},
   "source": [
    "Hago minimos moviles media moviles y maximos moviles para ver si alguna de esas variables puede ser predictiva y ayudar a los modelos"
   ]
  },
  {
   "cell_type": "code",
   "execution_count": 253,
   "id": "82a011ad",
   "metadata": {},
   "outputs": [],
   "source": [
    "def min_movil(df, variable, num_periodos = 7):\n",
    "\n",
    "    minm = pd.DataFrame()\n",
    "    \n",
    "    for cada in range(2,num_periodos+1): #Empieza por dos para poder calcular la media de algo, no hay media de 1\n",
    "        minm[variable + '_minm_' + str(cada)] = df[variable].shift(1).rolling(cada).min()\n",
    "    \n",
    "    return(minm)"
   ]
  },
  {
   "cell_type": "code",
   "execution_count": 254,
   "id": "35da6f3f",
   "metadata": {},
   "outputs": [],
   "source": [
    "def media_movil(df, variable, num_periodos = 7):\n",
    "\n",
    "    mm = pd.DataFrame()\n",
    "    \n",
    "    for cada in range(2,num_periodos+1):\n",
    "        mm[variable + '_mm_' + str(cada)] = df[variable].shift(1).rolling(cada).mean()\n",
    "\n",
    "    return(mm)"
   ]
  },
  {
   "cell_type": "code",
   "execution_count": 255,
   "id": "4e554559",
   "metadata": {},
   "outputs": [],
   "source": [
    "def max_movil(df, variable, num_periodos = 7):\n",
    "\n",
    "    maxm = pd.DataFrame()\n",
    "    \n",
    "    for cada in range(2,num_periodos+1):\n",
    "        maxm[variable + '_maxm_' + str(cada)] = df[variable].shift(1).rolling(cada).max()\n",
    "\n",
    "    return(maxm)"
   ]
  },
  {
   "cell_type": "code",
   "execution_count": 256,
   "id": "e2694eb7",
   "metadata": {},
   "outputs": [],
   "source": [
    "min_movil_df = df.groupby(['warehouse_id','item_id'])\\\n",
    "                    .apply(lambda x: min_movil(df = x, variable = 'ventas', num_periodos= 15))"
   ]
  },
  {
   "cell_type": "code",
   "execution_count": 257,
   "id": "e00a410f",
   "metadata": {},
   "outputs": [],
   "source": [
    "media_movil_df = df.groupby(['warehouse_id','item_id'])\\\n",
    "                    .apply(lambda x: media_movil(df = x, variable = 'ventas', num_periodos= 15))"
   ]
  },
  {
   "cell_type": "code",
   "execution_count": 258,
   "id": "92bf2a4e",
   "metadata": {},
   "outputs": [],
   "source": [
    "max_movil_df = df.groupby(['warehouse_id','item_id'])\\\n",
    "                    .apply(lambda x: max_movil(df = x, variable = 'ventas', num_periodos= 15))"
   ]
  },
  {
   "cell_type": "markdown",
   "id": "df95cb17",
   "metadata": {},
   "source": [
    "## PREPARAR LOS DATASETS"
   ]
  },
  {
   "cell_type": "markdown",
   "id": "e151b5f9",
   "metadata": {},
   "source": [
    "### Unir todos los dataframes generados"
   ]
  },
  {
   "cell_type": "code",
   "execution_count": 259,
   "id": "37f0c462-d877-4b9e-8f7c-a2a538139ce5",
   "metadata": {},
   "outputs": [],
   "source": [
    "df = df.reset_index(drop=False)\n",
    "lags_sell_price_df = lags_sell_price_df.reset_index(drop=True)\n",
    "lags_rotura_stock_3_df = lags_rotura_stock_3_df.reset_index(drop=True)\n",
    "lags_rotura_stock_7_df = lags_rotura_stock_3_df.reset_index(drop=True)\n",
    "lags_rotura_stock_15_df = lags_rotura_stock_3_df.reset_index(drop=True)\n",
    "lags_ventas_df = lags_ventas_df.reset_index(drop=True)\n",
    "min_movil_df = min_movil_df.reset_index(drop=True)\n",
    "media_movil_df = media_movil_df.reset_index(drop=True)\n",
    "max_movil_df = max_movil_df.reset_index(drop=True)"
   ]
  },
  {
   "cell_type": "code",
   "execution_count": 260,
   "id": "6db645a6",
   "metadata": {},
   "outputs": [],
   "source": [
    "df_unido = pd.concat([df,\n",
    "                      lags_sell_price_df,\n",
    "                      lags_rotura_stock_3_df,\n",
    "                      lags_rotura_stock_7_df,\n",
    "                      lags_rotura_stock_15_df,\n",
    "                      lags_ventas_df,\n",
    "                      min_movil_df,\n",
    "                      media_movil_df,\n",
    "                      max_movil_df], axis = 1)\n",
    "\n",
    "df_unido = df_unido.set_index('date')"
   ]
  },
  {
   "cell_type": "code",
   "execution_count": 261,
   "id": "777c4745-ffd8-4e8c-8e74-3a2d3eda6f49",
   "metadata": {},
   "outputs": [
    {
     "data": {
      "text/html": [
       "<div>\n",
       "<style scoped>\n",
       "    .dataframe tbody tr th:only-of-type {\n",
       "        vertical-align: middle;\n",
       "    }\n",
       "\n",
       "    .dataframe tbody tr th {\n",
       "        vertical-align: top;\n",
       "    }\n",
       "\n",
       "    .dataframe thead th {\n",
       "        text-align: right;\n",
       "    }\n",
       "</style>\n",
       "<table border=\"1\" class=\"dataframe\">\n",
       "  <thead>\n",
       "    <tr style=\"text-align: right;\">\n",
       "      <th></th>\n",
       "      <th>warehouse_id</th>\n",
       "      <th>item_id</th>\n",
       "      <th>d</th>\n",
       "      <th>year</th>\n",
       "      <th>month</th>\n",
       "      <th>wday</th>\n",
       "      <th>weekday</th>\n",
       "      <th>event_name_1</th>\n",
       "      <th>event_type_1</th>\n",
       "      <th>wm_yr_wk</th>\n",
       "      <th>...</th>\n",
       "      <th>ventas_maxm_6</th>\n",
       "      <th>ventas_maxm_7</th>\n",
       "      <th>ventas_maxm_8</th>\n",
       "      <th>ventas_maxm_9</th>\n",
       "      <th>ventas_maxm_10</th>\n",
       "      <th>ventas_maxm_11</th>\n",
       "      <th>ventas_maxm_12</th>\n",
       "      <th>ventas_maxm_13</th>\n",
       "      <th>ventas_maxm_14</th>\n",
       "      <th>ventas_maxm_15</th>\n",
       "    </tr>\n",
       "    <tr>\n",
       "      <th>date</th>\n",
       "      <th></th>\n",
       "      <th></th>\n",
       "      <th></th>\n",
       "      <th></th>\n",
       "      <th></th>\n",
       "      <th></th>\n",
       "      <th></th>\n",
       "      <th></th>\n",
       "      <th></th>\n",
       "      <th></th>\n",
       "      <th></th>\n",
       "      <th></th>\n",
       "      <th></th>\n",
       "      <th></th>\n",
       "      <th></th>\n",
       "      <th></th>\n",
       "      <th></th>\n",
       "      <th></th>\n",
       "      <th></th>\n",
       "      <th></th>\n",
       "      <th></th>\n",
       "    </tr>\n",
       "  </thead>\n",
       "  <tbody>\n",
       "    <tr>\n",
       "      <th>2013-01-01</th>\n",
       "      <td>CA_3</td>\n",
       "      <td>BLACK_3_090</td>\n",
       "      <td>d_704</td>\n",
       "      <td>2013</td>\n",
       "      <td>1</td>\n",
       "      <td>4</td>\n",
       "      <td>Tuesday</td>\n",
       "      <td>NewYear</td>\n",
       "      <td>National</td>\n",
       "      <td>11249</td>\n",
       "      <td>...</td>\n",
       "      <td>NaN</td>\n",
       "      <td>NaN</td>\n",
       "      <td>NaN</td>\n",
       "      <td>NaN</td>\n",
       "      <td>NaN</td>\n",
       "      <td>NaN</td>\n",
       "      <td>NaN</td>\n",
       "      <td>NaN</td>\n",
       "      <td>NaN</td>\n",
       "      <td>NaN</td>\n",
       "    </tr>\n",
       "    <tr>\n",
       "      <th>2013-01-02</th>\n",
       "      <td>CA_3</td>\n",
       "      <td>BLACK_3_090</td>\n",
       "      <td>d_705</td>\n",
       "      <td>2013</td>\n",
       "      <td>1</td>\n",
       "      <td>5</td>\n",
       "      <td>Wednesday</td>\n",
       "      <td>Sin_evento</td>\n",
       "      <td>Sin_evento</td>\n",
       "      <td>11249</td>\n",
       "      <td>...</td>\n",
       "      <td>NaN</td>\n",
       "      <td>NaN</td>\n",
       "      <td>NaN</td>\n",
       "      <td>NaN</td>\n",
       "      <td>NaN</td>\n",
       "      <td>NaN</td>\n",
       "      <td>NaN</td>\n",
       "      <td>NaN</td>\n",
       "      <td>NaN</td>\n",
       "      <td>NaN</td>\n",
       "    </tr>\n",
       "    <tr>\n",
       "      <th>2013-01-03</th>\n",
       "      <td>CA_3</td>\n",
       "      <td>BLACK_3_090</td>\n",
       "      <td>d_706</td>\n",
       "      <td>2013</td>\n",
       "      <td>1</td>\n",
       "      <td>6</td>\n",
       "      <td>Thursday</td>\n",
       "      <td>Sin_evento</td>\n",
       "      <td>Sin_evento</td>\n",
       "      <td>11249</td>\n",
       "      <td>...</td>\n",
       "      <td>NaN</td>\n",
       "      <td>NaN</td>\n",
       "      <td>NaN</td>\n",
       "      <td>NaN</td>\n",
       "      <td>NaN</td>\n",
       "      <td>NaN</td>\n",
       "      <td>NaN</td>\n",
       "      <td>NaN</td>\n",
       "      <td>NaN</td>\n",
       "      <td>NaN</td>\n",
       "    </tr>\n",
       "    <tr>\n",
       "      <th>2013-01-04</th>\n",
       "      <td>CA_3</td>\n",
       "      <td>BLACK_3_090</td>\n",
       "      <td>d_707</td>\n",
       "      <td>2013</td>\n",
       "      <td>1</td>\n",
       "      <td>7</td>\n",
       "      <td>Friday</td>\n",
       "      <td>Sin_evento</td>\n",
       "      <td>Sin_evento</td>\n",
       "      <td>11249</td>\n",
       "      <td>...</td>\n",
       "      <td>NaN</td>\n",
       "      <td>NaN</td>\n",
       "      <td>NaN</td>\n",
       "      <td>NaN</td>\n",
       "      <td>NaN</td>\n",
       "      <td>NaN</td>\n",
       "      <td>NaN</td>\n",
       "      <td>NaN</td>\n",
       "      <td>NaN</td>\n",
       "      <td>NaN</td>\n",
       "    </tr>\n",
       "    <tr>\n",
       "      <th>2013-01-05</th>\n",
       "      <td>CA_3</td>\n",
       "      <td>BLACK_3_090</td>\n",
       "      <td>d_708</td>\n",
       "      <td>2013</td>\n",
       "      <td>1</td>\n",
       "      <td>1</td>\n",
       "      <td>Saturday</td>\n",
       "      <td>Sin_evento</td>\n",
       "      <td>Sin_evento</td>\n",
       "      <td>11250</td>\n",
       "      <td>...</td>\n",
       "      <td>NaN</td>\n",
       "      <td>NaN</td>\n",
       "      <td>NaN</td>\n",
       "      <td>NaN</td>\n",
       "      <td>NaN</td>\n",
       "      <td>NaN</td>\n",
       "      <td>NaN</td>\n",
       "      <td>NaN</td>\n",
       "      <td>NaN</td>\n",
       "      <td>NaN</td>\n",
       "    </tr>\n",
       "    <tr>\n",
       "      <th>...</th>\n",
       "      <td>...</td>\n",
       "      <td>...</td>\n",
       "      <td>...</td>\n",
       "      <td>...</td>\n",
       "      <td>...</td>\n",
       "      <td>...</td>\n",
       "      <td>...</td>\n",
       "      <td>...</td>\n",
       "      <td>...</td>\n",
       "      <td>...</td>\n",
       "      <td>...</td>\n",
       "      <td>...</td>\n",
       "      <td>...</td>\n",
       "      <td>...</td>\n",
       "      <td>...</td>\n",
       "      <td>...</td>\n",
       "      <td>...</td>\n",
       "      <td>...</td>\n",
       "      <td>...</td>\n",
       "      <td>...</td>\n",
       "      <td>...</td>\n",
       "    </tr>\n",
       "    <tr>\n",
       "      <th>2015-11-26</th>\n",
       "      <td>CA_4</td>\n",
       "      <td>BLACK_3_714</td>\n",
       "      <td>d_1763</td>\n",
       "      <td>2015</td>\n",
       "      <td>11</td>\n",
       "      <td>6</td>\n",
       "      <td>Thursday</td>\n",
       "      <td>Thanksgiving</td>\n",
       "      <td>National</td>\n",
       "      <td>11543</td>\n",
       "      <td>...</td>\n",
       "      <td>15.0</td>\n",
       "      <td>15.0</td>\n",
       "      <td>15.0</td>\n",
       "      <td>15.0</td>\n",
       "      <td>15.0</td>\n",
       "      <td>17.0</td>\n",
       "      <td>17.0</td>\n",
       "      <td>17.0</td>\n",
       "      <td>17.0</td>\n",
       "      <td>17.0</td>\n",
       "    </tr>\n",
       "    <tr>\n",
       "      <th>2015-11-27</th>\n",
       "      <td>CA_4</td>\n",
       "      <td>BLACK_3_714</td>\n",
       "      <td>d_1764</td>\n",
       "      <td>2015</td>\n",
       "      <td>11</td>\n",
       "      <td>7</td>\n",
       "      <td>Friday</td>\n",
       "      <td>Sin_evento</td>\n",
       "      <td>Sin_evento</td>\n",
       "      <td>11543</td>\n",
       "      <td>...</td>\n",
       "      <td>22.0</td>\n",
       "      <td>22.0</td>\n",
       "      <td>22.0</td>\n",
       "      <td>22.0</td>\n",
       "      <td>22.0</td>\n",
       "      <td>22.0</td>\n",
       "      <td>22.0</td>\n",
       "      <td>22.0</td>\n",
       "      <td>22.0</td>\n",
       "      <td>22.0</td>\n",
       "    </tr>\n",
       "    <tr>\n",
       "      <th>2015-11-28</th>\n",
       "      <td>CA_4</td>\n",
       "      <td>BLACK_3_714</td>\n",
       "      <td>d_1765</td>\n",
       "      <td>2015</td>\n",
       "      <td>11</td>\n",
       "      <td>1</td>\n",
       "      <td>Saturday</td>\n",
       "      <td>Sin_evento</td>\n",
       "      <td>Sin_evento</td>\n",
       "      <td>11544</td>\n",
       "      <td>...</td>\n",
       "      <td>22.0</td>\n",
       "      <td>22.0</td>\n",
       "      <td>22.0</td>\n",
       "      <td>22.0</td>\n",
       "      <td>22.0</td>\n",
       "      <td>22.0</td>\n",
       "      <td>22.0</td>\n",
       "      <td>22.0</td>\n",
       "      <td>22.0</td>\n",
       "      <td>22.0</td>\n",
       "    </tr>\n",
       "    <tr>\n",
       "      <th>2015-11-29</th>\n",
       "      <td>CA_4</td>\n",
       "      <td>BLACK_3_714</td>\n",
       "      <td>d_1766</td>\n",
       "      <td>2015</td>\n",
       "      <td>11</td>\n",
       "      <td>2</td>\n",
       "      <td>Sunday</td>\n",
       "      <td>Sin_evento</td>\n",
       "      <td>Sin_evento</td>\n",
       "      <td>11544</td>\n",
       "      <td>...</td>\n",
       "      <td>22.0</td>\n",
       "      <td>22.0</td>\n",
       "      <td>22.0</td>\n",
       "      <td>22.0</td>\n",
       "      <td>22.0</td>\n",
       "      <td>22.0</td>\n",
       "      <td>22.0</td>\n",
       "      <td>22.0</td>\n",
       "      <td>22.0</td>\n",
       "      <td>22.0</td>\n",
       "    </tr>\n",
       "    <tr>\n",
       "      <th>2015-11-30</th>\n",
       "      <td>CA_4</td>\n",
       "      <td>BLACK_3_714</td>\n",
       "      <td>d_1767</td>\n",
       "      <td>2015</td>\n",
       "      <td>11</td>\n",
       "      <td>3</td>\n",
       "      <td>Monday</td>\n",
       "      <td>Sin_evento</td>\n",
       "      <td>Sin_evento</td>\n",
       "      <td>11544</td>\n",
       "      <td>...</td>\n",
       "      <td>22.0</td>\n",
       "      <td>22.0</td>\n",
       "      <td>22.0</td>\n",
       "      <td>22.0</td>\n",
       "      <td>22.0</td>\n",
       "      <td>22.0</td>\n",
       "      <td>22.0</td>\n",
       "      <td>22.0</td>\n",
       "      <td>22.0</td>\n",
       "      <td>22.0</td>\n",
       "    </tr>\n",
       "  </tbody>\n",
       "</table>\n",
       "<p>21280 rows × 82 columns</p>\n",
       "</div>"
      ],
      "text/plain": [
       "           warehouse_id      item_id       d  year month wday    weekday  \\\n",
       "date                                                                       \n",
       "2013-01-01         CA_3  BLACK_3_090   d_704  2013     1    4    Tuesday   \n",
       "2013-01-02         CA_3  BLACK_3_090   d_705  2013     1    5  Wednesday   \n",
       "2013-01-03         CA_3  BLACK_3_090   d_706  2013     1    6   Thursday   \n",
       "2013-01-04         CA_3  BLACK_3_090   d_707  2013     1    7     Friday   \n",
       "2013-01-05         CA_3  BLACK_3_090   d_708  2013     1    1   Saturday   \n",
       "...                 ...          ...     ...   ...   ...  ...        ...   \n",
       "2015-11-26         CA_4  BLACK_3_714  d_1763  2015    11    6   Thursday   \n",
       "2015-11-27         CA_4  BLACK_3_714  d_1764  2015    11    7     Friday   \n",
       "2015-11-28         CA_4  BLACK_3_714  d_1765  2015    11    1   Saturday   \n",
       "2015-11-29         CA_4  BLACK_3_714  d_1766  2015    11    2     Sunday   \n",
       "2015-11-30         CA_4  BLACK_3_714  d_1767  2015    11    3     Monday   \n",
       "\n",
       "            event_name_1 event_type_1  wm_yr_wk  ...  ventas_maxm_6  \\\n",
       "date                                             ...                  \n",
       "2013-01-01       NewYear     National     11249  ...            NaN   \n",
       "2013-01-02    Sin_evento   Sin_evento     11249  ...            NaN   \n",
       "2013-01-03    Sin_evento   Sin_evento     11249  ...            NaN   \n",
       "2013-01-04    Sin_evento   Sin_evento     11249  ...            NaN   \n",
       "2013-01-05    Sin_evento   Sin_evento     11250  ...            NaN   \n",
       "...                  ...          ...       ...  ...            ...   \n",
       "2015-11-26  Thanksgiving     National     11543  ...           15.0   \n",
       "2015-11-27    Sin_evento   Sin_evento     11543  ...           22.0   \n",
       "2015-11-28    Sin_evento   Sin_evento     11544  ...           22.0   \n",
       "2015-11-29    Sin_evento   Sin_evento     11544  ...           22.0   \n",
       "2015-11-30    Sin_evento   Sin_evento     11544  ...           22.0   \n",
       "\n",
       "            ventas_maxm_7  ventas_maxm_8  ventas_maxm_9  ventas_maxm_10  \\\n",
       "date                                                                      \n",
       "2013-01-01            NaN            NaN            NaN             NaN   \n",
       "2013-01-02            NaN            NaN            NaN             NaN   \n",
       "2013-01-03            NaN            NaN            NaN             NaN   \n",
       "2013-01-04            NaN            NaN            NaN             NaN   \n",
       "2013-01-05            NaN            NaN            NaN             NaN   \n",
       "...                   ...            ...            ...             ...   \n",
       "2015-11-26           15.0           15.0           15.0            15.0   \n",
       "2015-11-27           22.0           22.0           22.0            22.0   \n",
       "2015-11-28           22.0           22.0           22.0            22.0   \n",
       "2015-11-29           22.0           22.0           22.0            22.0   \n",
       "2015-11-30           22.0           22.0           22.0            22.0   \n",
       "\n",
       "            ventas_maxm_11  ventas_maxm_12  ventas_maxm_13  ventas_maxm_14  \\\n",
       "date                                                                         \n",
       "2013-01-01             NaN             NaN             NaN             NaN   \n",
       "2013-01-02             NaN             NaN             NaN             NaN   \n",
       "2013-01-03             NaN             NaN             NaN             NaN   \n",
       "2013-01-04             NaN             NaN             NaN             NaN   \n",
       "2013-01-05             NaN             NaN             NaN             NaN   \n",
       "...                    ...             ...             ...             ...   \n",
       "2015-11-26            17.0            17.0            17.0            17.0   \n",
       "2015-11-27            22.0            22.0            22.0            22.0   \n",
       "2015-11-28            22.0            22.0            22.0            22.0   \n",
       "2015-11-29            22.0            22.0            22.0            22.0   \n",
       "2015-11-30            22.0            22.0            22.0            22.0   \n",
       "\n",
       "            ventas_maxm_15  \n",
       "date                        \n",
       "2013-01-01             NaN  \n",
       "2013-01-02             NaN  \n",
       "2013-01-03             NaN  \n",
       "2013-01-04             NaN  \n",
       "2013-01-05             NaN  \n",
       "...                    ...  \n",
       "2015-11-26            17.0  \n",
       "2015-11-27            22.0  \n",
       "2015-11-28            22.0  \n",
       "2015-11-29            22.0  \n",
       "2015-11-30            22.0  \n",
       "\n",
       "[21280 rows x 82 columns]"
      ]
     },
     "execution_count": 261,
     "metadata": {},
     "output_type": "execute_result"
    }
   ],
   "source": [
    "df_unido"
   ]
  },
  {
   "cell_type": "markdown",
   "id": "8bdb1834",
   "metadata": {},
   "source": [
    "### Eliminar los nulos que han generado las nuevas variables"
   ]
  },
  {
   "cell_type": "markdown",
   "id": "dacf2610-d2da-4c6c-9bc7-58580cab3bcc",
   "metadata": {},
   "source": [
    "Los primeros registros tienen nulos en las nuevas variables con las que hemos creado \"lags\", los elimino"
   ]
  },
  {
   "cell_type": "code",
   "execution_count": 262,
   "id": "fddc50e5",
   "metadata": {},
   "outputs": [],
   "source": [
    "df_unido.dropna(inplace=True)"
   ]
  },
  {
   "cell_type": "markdown",
   "id": "fa11f9af",
   "metadata": {},
   "source": [
    "### Eliminar las variables que no voy a necesitar para modelizar"
   ]
  },
  {
   "cell_type": "code",
   "execution_count": 263,
   "id": "d0022e76",
   "metadata": {},
   "outputs": [],
   "source": [
    "a_eliminar = ['d','wm_yr_wk','sell_price','rotura_stock_3','rotura_stock_7','rotura_stock_15']"
   ]
  },
  {
   "cell_type": "markdown",
   "id": "f2c3ae4a-a52a-4786-85aa-10faf052773a",
   "metadata": {},
   "source": [
    "* sell_price: no uso esta, usaré los lags sobre el precio de venta\n",
    "* rotura_stock: usaré el lag de cada que he creado"
   ]
  },
  {
   "cell_type": "code",
   "execution_count": 264,
   "id": "48540f69",
   "metadata": {},
   "outputs": [],
   "source": [
    "df_unido.drop(columns=a_eliminar, inplace=True)"
   ]
  },
  {
   "cell_type": "markdown",
   "id": "51958aca",
   "metadata": {},
   "source": [
    "### Identificar la target"
   ]
  },
  {
   "cell_type": "markdown",
   "id": "e8d675af-b277-4f30-bda7-c419a7bda270",
   "metadata": {},
   "source": [
    "Voy a hacer target encoding"
   ]
  },
  {
   "cell_type": "code",
   "execution_count": 265,
   "id": "ef06ec69",
   "metadata": {},
   "outputs": [],
   "source": [
    "target = df_unido.ventas"
   ]
  },
  {
   "cell_type": "markdown",
   "id": "2ae37124",
   "metadata": {},
   "source": [
    "### Separar num y cat"
   ]
  },
  {
   "cell_type": "code",
   "execution_count": 266,
   "id": "d92a8d98",
   "metadata": {},
   "outputs": [],
   "source": [
    "cat = df_unido.select_dtypes(include='O')"
   ]
  },
  {
   "cell_type": "code",
   "execution_count": 267,
   "id": "a2364290",
   "metadata": {},
   "outputs": [],
   "source": [
    "num = df_unido.select_dtypes(exclude='O')"
   ]
  },
  {
   "cell_type": "markdown",
   "id": "e924c05a",
   "metadata": {},
   "source": [
    "## TRANSFORMACIÓN DE CATEGÓRICAS"
   ]
  },
  {
   "cell_type": "markdown",
   "id": "f1fa5201",
   "metadata": {},
   "source": [
    "### One Hot Encoding"
   ]
  },
  {
   "cell_type": "markdown",
   "id": "ab475106-cd26-4eea-aff5-4512dd239933",
   "metadata": {},
   "source": [
    "Aplicar a todas las variables categoricas nominales(no orden)"
   ]
  },
  {
   "cell_type": "markdown",
   "id": "da9b786a",
   "metadata": {},
   "source": [
    "#### Variables a aplicar OHE"
   ]
  },
  {
   "cell_type": "code",
   "execution_count": 268,
   "id": "6e36cf47",
   "metadata": {},
   "outputs": [],
   "source": [
    "var_ohe = ['year',\n",
    "          'month',\n",
    "          'wday',\n",
    "          'weekday',\n",
    "          'event_name_1',\n",
    "          'event_type_1'\n",
    "        ]"
   ]
  },
  {
   "cell_type": "markdown",
   "id": "db8d4634",
   "metadata": {},
   "source": [
    "#### Instanciar"
   ]
  },
  {
   "cell_type": "code",
   "execution_count": 269,
   "id": "e75c2ee4",
   "metadata": {},
   "outputs": [],
   "source": [
    "ohe = OneHotEncoder(sparse = False, handle_unknown='ignore')"
   ]
  },
  {
   "cell_type": "markdown",
   "id": "26c9f58f",
   "metadata": {},
   "source": [
    "#### Entrenar y aplicar"
   ]
  },
  {
   "cell_type": "code",
   "execution_count": 270,
   "id": "4162d5a7",
   "metadata": {},
   "outputs": [
    {
     "name": "stderr",
     "output_type": "stream",
     "text": [
      "C:\\Users\\sallus\\AppData\\Local\\miniconda3\\envs\\forecastalfarben\\Lib\\site-packages\\sklearn\\preprocessing\\_encoders.py:868: FutureWarning: `sparse` was renamed to `sparse_output` in version 1.2 and will be removed in 1.4. `sparse_output` is ignored unless you leave `sparse` to its default value.\n",
      "  warnings.warn(\n"
     ]
    }
   ],
   "source": [
    "cat_ohe = ohe.fit_transform(cat[var_ohe])"
   ]
  },
  {
   "cell_type": "markdown",
   "id": "c9131f15",
   "metadata": {},
   "source": [
    "#### Guardar como dataframe"
   ]
  },
  {
   "cell_type": "code",
   "execution_count": 271,
   "id": "783255d7",
   "metadata": {},
   "outputs": [],
   "source": [
    "cat_ohe = pd.DataFrame(cat_ohe, columns = ohe.get_feature_names_out())"
   ]
  },
  {
   "cell_type": "markdown",
   "id": "be5ec0ae",
   "metadata": {},
   "source": [
    "### Target Encoding"
   ]
  },
  {
   "cell_type": "markdown",
   "id": "c20327a2-6328-48a9-9945-72046326bfe0",
   "metadata": {},
   "source": [
    "Si un producto se vende mas un dia que otro, esa media que se vende el producto cada dia, puede ser muy predictivo. \n",
    "\n",
    "Es como si vendiera costillas un finde, es mas predictivo tenerlo."
   ]
  },
  {
   "cell_type": "markdown",
   "id": "320bbcb7",
   "metadata": {},
   "source": [
    "#### Variables a aplicar TE"
   ]
  },
  {
   "cell_type": "code",
   "execution_count": 272,
   "id": "3544bb26",
   "metadata": {},
   "outputs": [],
   "source": [
    "var_te = ['year',\n",
    "          'month',\n",
    "          'wday',\n",
    "          'weekday',\n",
    "          'event_name_1',\n",
    "          'event_type_1'\n",
    "        ]"
   ]
  },
  {
   "cell_type": "markdown",
   "id": "0d66cf0d",
   "metadata": {},
   "source": [
    "#### Instanciar"
   ]
  },
  {
   "cell_type": "code",
   "execution_count": 273,
   "id": "0d214b55",
   "metadata": {},
   "outputs": [],
   "source": [
    "te = TargetEncoder(min_samples_leaf=100, return_df = False)"
   ]
  },
  {
   "cell_type": "markdown",
   "id": "65ea9fb7",
   "metadata": {},
   "source": [
    "#### Entrenar y aplicar"
   ]
  },
  {
   "cell_type": "code",
   "execution_count": 274,
   "id": "aabd67d6",
   "metadata": {},
   "outputs": [],
   "source": [
    "cat_te = te.fit_transform(cat[var_te], y = target)"
   ]
  },
  {
   "cell_type": "markdown",
   "id": "d8423376",
   "metadata": {},
   "source": [
    "#### Guardar como dataframe"
   ]
  },
  {
   "cell_type": "code",
   "execution_count": 275,
   "id": "9a188ce9",
   "metadata": {},
   "outputs": [],
   "source": [
    "#Añadir sufijos a los nombres\n",
    "nombres_te = [variable + '_te' for variable in var_te]\n",
    "\n",
    "#Guardar como dataframe\n",
    "cat_te = pd.DataFrame(cat_te, columns = nombres_te)"
   ]
  },
  {
   "cell_type": "markdown",
   "id": "87434e0c",
   "metadata": {},
   "source": [
    "## UNIFICAR DATASETS TRANSFORMADOS"
   ]
  },
  {
   "cell_type": "markdown",
   "id": "6d638486",
   "metadata": {},
   "source": [
    "### Meter en una lista todos los dataframes generados"
   ]
  },
  {
   "cell_type": "markdown",
   "id": "44aeca4e",
   "metadata": {},
   "source": [
    "Rescato de df_unido las variables de segmentación."
   ]
  },
  {
   "cell_type": "code",
   "execution_count": 276,
   "id": "19cfe9b5",
   "metadata": {},
   "outputs": [
    {
     "data": {
      "text/html": [
       "<div>\n",
       "<style scoped>\n",
       "    .dataframe tbody tr th:only-of-type {\n",
       "        vertical-align: middle;\n",
       "    }\n",
       "\n",
       "    .dataframe tbody tr th {\n",
       "        vertical-align: top;\n",
       "    }\n",
       "\n",
       "    .dataframe thead th {\n",
       "        text-align: right;\n",
       "    }\n",
       "</style>\n",
       "<table border=\"1\" class=\"dataframe\">\n",
       "  <thead>\n",
       "    <tr style=\"text-align: right;\">\n",
       "      <th></th>\n",
       "      <th>date</th>\n",
       "      <th>warehouse_id</th>\n",
       "      <th>item_id</th>\n",
       "    </tr>\n",
       "  </thead>\n",
       "  <tbody>\n",
       "    <tr>\n",
       "      <th>0</th>\n",
       "      <td>2013-01-16</td>\n",
       "      <td>CA_3</td>\n",
       "      <td>BLACK_3_090</td>\n",
       "    </tr>\n",
       "    <tr>\n",
       "      <th>1</th>\n",
       "      <td>2013-01-17</td>\n",
       "      <td>CA_3</td>\n",
       "      <td>BLACK_3_090</td>\n",
       "    </tr>\n",
       "  </tbody>\n",
       "</table>\n",
       "</div>"
      ],
      "text/plain": [
       "        date warehouse_id      item_id\n",
       "0 2013-01-16         CA_3  BLACK_3_090\n",
       "1 2013-01-17         CA_3  BLACK_3_090"
      ]
     },
     "execution_count": 276,
     "metadata": {},
     "output_type": "execute_result"
    }
   ],
   "source": [
    "de_df_unido = df_unido[['warehouse_id','item_id']].reset_index()\n",
    "\n",
    "de_df_unido.head(2)"
   ]
  },
  {
   "cell_type": "markdown",
   "id": "2b90d8a5",
   "metadata": {},
   "source": [
    "### Unir todos los dataframes"
   ]
  },
  {
   "cell_type": "code",
   "execution_count": 279,
   "id": "a63745d8",
   "metadata": {},
   "outputs": [],
   "source": [
    "dataframes = [de_df_unido, cat_ohe,cat_te,num.reset_index(drop=True)]"
   ]
  },
  {
   "cell_type": "code",
   "execution_count": 280,
   "id": "1a0f6ea0",
   "metadata": {},
   "outputs": [
    {
     "data": {
      "text/html": [
       "<div>\n",
       "<style scoped>\n",
       "    .dataframe tbody tr th:only-of-type {\n",
       "        vertical-align: middle;\n",
       "    }\n",
       "\n",
       "    .dataframe tbody tr th {\n",
       "        vertical-align: top;\n",
       "    }\n",
       "\n",
       "    .dataframe thead th {\n",
       "        text-align: right;\n",
       "    }\n",
       "</style>\n",
       "<table border=\"1\" class=\"dataframe\">\n",
       "  <thead>\n",
       "    <tr style=\"text-align: right;\">\n",
       "      <th></th>\n",
       "      <th>date</th>\n",
       "      <th>warehouse_id</th>\n",
       "      <th>item_id</th>\n",
       "      <th>year_2013</th>\n",
       "      <th>year_2014</th>\n",
       "      <th>year_2015</th>\n",
       "      <th>month_1</th>\n",
       "      <th>month_2</th>\n",
       "      <th>month_3</th>\n",
       "      <th>month_4</th>\n",
       "      <th>...</th>\n",
       "      <th>ventas_maxm_6</th>\n",
       "      <th>ventas_maxm_7</th>\n",
       "      <th>ventas_maxm_8</th>\n",
       "      <th>ventas_maxm_9</th>\n",
       "      <th>ventas_maxm_10</th>\n",
       "      <th>ventas_maxm_11</th>\n",
       "      <th>ventas_maxm_12</th>\n",
       "      <th>ventas_maxm_13</th>\n",
       "      <th>ventas_maxm_14</th>\n",
       "      <th>ventas_maxm_15</th>\n",
       "    </tr>\n",
       "  </thead>\n",
       "  <tbody>\n",
       "    <tr>\n",
       "      <th>0</th>\n",
       "      <td>2013-01-16</td>\n",
       "      <td>CA_3</td>\n",
       "      <td>BLACK_3_090</td>\n",
       "      <td>1.0</td>\n",
       "      <td>0.0</td>\n",
       "      <td>0.0</td>\n",
       "      <td>1.0</td>\n",
       "      <td>0.0</td>\n",
       "      <td>0.0</td>\n",
       "      <td>0.0</td>\n",
       "      <td>...</td>\n",
       "      <td>351.0</td>\n",
       "      <td>351.0</td>\n",
       "      <td>351.0</td>\n",
       "      <td>351.0</td>\n",
       "      <td>351.0</td>\n",
       "      <td>351.0</td>\n",
       "      <td>351.0</td>\n",
       "      <td>351.0</td>\n",
       "      <td>351.0</td>\n",
       "      <td>351.0</td>\n",
       "    </tr>\n",
       "    <tr>\n",
       "      <th>1</th>\n",
       "      <td>2013-01-17</td>\n",
       "      <td>CA_3</td>\n",
       "      <td>BLACK_3_090</td>\n",
       "      <td>1.0</td>\n",
       "      <td>0.0</td>\n",
       "      <td>0.0</td>\n",
       "      <td>1.0</td>\n",
       "      <td>0.0</td>\n",
       "      <td>0.0</td>\n",
       "      <td>0.0</td>\n",
       "      <td>...</td>\n",
       "      <td>351.0</td>\n",
       "      <td>351.0</td>\n",
       "      <td>351.0</td>\n",
       "      <td>351.0</td>\n",
       "      <td>351.0</td>\n",
       "      <td>351.0</td>\n",
       "      <td>351.0</td>\n",
       "      <td>351.0</td>\n",
       "      <td>351.0</td>\n",
       "      <td>351.0</td>\n",
       "    </tr>\n",
       "    <tr>\n",
       "      <th>2</th>\n",
       "      <td>2013-01-18</td>\n",
       "      <td>CA_3</td>\n",
       "      <td>BLACK_3_090</td>\n",
       "      <td>1.0</td>\n",
       "      <td>0.0</td>\n",
       "      <td>0.0</td>\n",
       "      <td>1.0</td>\n",
       "      <td>0.0</td>\n",
       "      <td>0.0</td>\n",
       "      <td>0.0</td>\n",
       "      <td>...</td>\n",
       "      <td>351.0</td>\n",
       "      <td>351.0</td>\n",
       "      <td>351.0</td>\n",
       "      <td>351.0</td>\n",
       "      <td>351.0</td>\n",
       "      <td>351.0</td>\n",
       "      <td>351.0</td>\n",
       "      <td>351.0</td>\n",
       "      <td>351.0</td>\n",
       "      <td>351.0</td>\n",
       "    </tr>\n",
       "    <tr>\n",
       "      <th>3</th>\n",
       "      <td>2013-01-19</td>\n",
       "      <td>CA_3</td>\n",
       "      <td>BLACK_3_090</td>\n",
       "      <td>1.0</td>\n",
       "      <td>0.0</td>\n",
       "      <td>0.0</td>\n",
       "      <td>1.0</td>\n",
       "      <td>0.0</td>\n",
       "      <td>0.0</td>\n",
       "      <td>0.0</td>\n",
       "      <td>...</td>\n",
       "      <td>281.0</td>\n",
       "      <td>351.0</td>\n",
       "      <td>351.0</td>\n",
       "      <td>351.0</td>\n",
       "      <td>351.0</td>\n",
       "      <td>351.0</td>\n",
       "      <td>351.0</td>\n",
       "      <td>351.0</td>\n",
       "      <td>351.0</td>\n",
       "      <td>351.0</td>\n",
       "    </tr>\n",
       "    <tr>\n",
       "      <th>4</th>\n",
       "      <td>2013-01-20</td>\n",
       "      <td>CA_3</td>\n",
       "      <td>BLACK_3_090</td>\n",
       "      <td>1.0</td>\n",
       "      <td>0.0</td>\n",
       "      <td>0.0</td>\n",
       "      <td>1.0</td>\n",
       "      <td>0.0</td>\n",
       "      <td>0.0</td>\n",
       "      <td>0.0</td>\n",
       "      <td>...</td>\n",
       "      <td>362.0</td>\n",
       "      <td>362.0</td>\n",
       "      <td>362.0</td>\n",
       "      <td>362.0</td>\n",
       "      <td>362.0</td>\n",
       "      <td>362.0</td>\n",
       "      <td>362.0</td>\n",
       "      <td>362.0</td>\n",
       "      <td>362.0</td>\n",
       "      <td>362.0</td>\n",
       "    </tr>\n",
       "    <tr>\n",
       "      <th>...</th>\n",
       "      <td>...</td>\n",
       "      <td>...</td>\n",
       "      <td>...</td>\n",
       "      <td>...</td>\n",
       "      <td>...</td>\n",
       "      <td>...</td>\n",
       "      <td>...</td>\n",
       "      <td>...</td>\n",
       "      <td>...</td>\n",
       "      <td>...</td>\n",
       "      <td>...</td>\n",
       "      <td>...</td>\n",
       "      <td>...</td>\n",
       "      <td>...</td>\n",
       "      <td>...</td>\n",
       "      <td>...</td>\n",
       "      <td>...</td>\n",
       "      <td>...</td>\n",
       "      <td>...</td>\n",
       "      <td>...</td>\n",
       "      <td>...</td>\n",
       "    </tr>\n",
       "    <tr>\n",
       "      <th>20920</th>\n",
       "      <td>2015-11-26</td>\n",
       "      <td>CA_4</td>\n",
       "      <td>BLACK_3_714</td>\n",
       "      <td>0.0</td>\n",
       "      <td>0.0</td>\n",
       "      <td>1.0</td>\n",
       "      <td>0.0</td>\n",
       "      <td>0.0</td>\n",
       "      <td>0.0</td>\n",
       "      <td>0.0</td>\n",
       "      <td>...</td>\n",
       "      <td>15.0</td>\n",
       "      <td>15.0</td>\n",
       "      <td>15.0</td>\n",
       "      <td>15.0</td>\n",
       "      <td>15.0</td>\n",
       "      <td>17.0</td>\n",
       "      <td>17.0</td>\n",
       "      <td>17.0</td>\n",
       "      <td>17.0</td>\n",
       "      <td>17.0</td>\n",
       "    </tr>\n",
       "    <tr>\n",
       "      <th>20921</th>\n",
       "      <td>2015-11-27</td>\n",
       "      <td>CA_4</td>\n",
       "      <td>BLACK_3_714</td>\n",
       "      <td>0.0</td>\n",
       "      <td>0.0</td>\n",
       "      <td>1.0</td>\n",
       "      <td>0.0</td>\n",
       "      <td>0.0</td>\n",
       "      <td>0.0</td>\n",
       "      <td>0.0</td>\n",
       "      <td>...</td>\n",
       "      <td>22.0</td>\n",
       "      <td>22.0</td>\n",
       "      <td>22.0</td>\n",
       "      <td>22.0</td>\n",
       "      <td>22.0</td>\n",
       "      <td>22.0</td>\n",
       "      <td>22.0</td>\n",
       "      <td>22.0</td>\n",
       "      <td>22.0</td>\n",
       "      <td>22.0</td>\n",
       "    </tr>\n",
       "    <tr>\n",
       "      <th>20922</th>\n",
       "      <td>2015-11-28</td>\n",
       "      <td>CA_4</td>\n",
       "      <td>BLACK_3_714</td>\n",
       "      <td>0.0</td>\n",
       "      <td>0.0</td>\n",
       "      <td>1.0</td>\n",
       "      <td>0.0</td>\n",
       "      <td>0.0</td>\n",
       "      <td>0.0</td>\n",
       "      <td>0.0</td>\n",
       "      <td>...</td>\n",
       "      <td>22.0</td>\n",
       "      <td>22.0</td>\n",
       "      <td>22.0</td>\n",
       "      <td>22.0</td>\n",
       "      <td>22.0</td>\n",
       "      <td>22.0</td>\n",
       "      <td>22.0</td>\n",
       "      <td>22.0</td>\n",
       "      <td>22.0</td>\n",
       "      <td>22.0</td>\n",
       "    </tr>\n",
       "    <tr>\n",
       "      <th>20923</th>\n",
       "      <td>2015-11-29</td>\n",
       "      <td>CA_4</td>\n",
       "      <td>BLACK_3_714</td>\n",
       "      <td>0.0</td>\n",
       "      <td>0.0</td>\n",
       "      <td>1.0</td>\n",
       "      <td>0.0</td>\n",
       "      <td>0.0</td>\n",
       "      <td>0.0</td>\n",
       "      <td>0.0</td>\n",
       "      <td>...</td>\n",
       "      <td>22.0</td>\n",
       "      <td>22.0</td>\n",
       "      <td>22.0</td>\n",
       "      <td>22.0</td>\n",
       "      <td>22.0</td>\n",
       "      <td>22.0</td>\n",
       "      <td>22.0</td>\n",
       "      <td>22.0</td>\n",
       "      <td>22.0</td>\n",
       "      <td>22.0</td>\n",
       "    </tr>\n",
       "    <tr>\n",
       "      <th>20924</th>\n",
       "      <td>2015-11-30</td>\n",
       "      <td>CA_4</td>\n",
       "      <td>BLACK_3_714</td>\n",
       "      <td>0.0</td>\n",
       "      <td>0.0</td>\n",
       "      <td>1.0</td>\n",
       "      <td>0.0</td>\n",
       "      <td>0.0</td>\n",
       "      <td>0.0</td>\n",
       "      <td>0.0</td>\n",
       "      <td>...</td>\n",
       "      <td>22.0</td>\n",
       "      <td>22.0</td>\n",
       "      <td>22.0</td>\n",
       "      <td>22.0</td>\n",
       "      <td>22.0</td>\n",
       "      <td>22.0</td>\n",
       "      <td>22.0</td>\n",
       "      <td>22.0</td>\n",
       "      <td>22.0</td>\n",
       "      <td>22.0</td>\n",
       "    </tr>\n",
       "  </tbody>\n",
       "</table>\n",
       "<p>20925 rows × 142 columns</p>\n",
       "</div>"
      ],
      "text/plain": [
       "            date warehouse_id      item_id  year_2013  year_2014  year_2015  \\\n",
       "0     2013-01-16         CA_3  BLACK_3_090        1.0        0.0        0.0   \n",
       "1     2013-01-17         CA_3  BLACK_3_090        1.0        0.0        0.0   \n",
       "2     2013-01-18         CA_3  BLACK_3_090        1.0        0.0        0.0   \n",
       "3     2013-01-19         CA_3  BLACK_3_090        1.0        0.0        0.0   \n",
       "4     2013-01-20         CA_3  BLACK_3_090        1.0        0.0        0.0   \n",
       "...          ...          ...          ...        ...        ...        ...   \n",
       "20920 2015-11-26         CA_4  BLACK_3_714        0.0        0.0        1.0   \n",
       "20921 2015-11-27         CA_4  BLACK_3_714        0.0        0.0        1.0   \n",
       "20922 2015-11-28         CA_4  BLACK_3_714        0.0        0.0        1.0   \n",
       "20923 2015-11-29         CA_4  BLACK_3_714        0.0        0.0        1.0   \n",
       "20924 2015-11-30         CA_4  BLACK_3_714        0.0        0.0        1.0   \n",
       "\n",
       "       month_1  month_2  month_3  month_4  ...  ventas_maxm_6  ventas_maxm_7  \\\n",
       "0          1.0      0.0      0.0      0.0  ...          351.0          351.0   \n",
       "1          1.0      0.0      0.0      0.0  ...          351.0          351.0   \n",
       "2          1.0      0.0      0.0      0.0  ...          351.0          351.0   \n",
       "3          1.0      0.0      0.0      0.0  ...          281.0          351.0   \n",
       "4          1.0      0.0      0.0      0.0  ...          362.0          362.0   \n",
       "...        ...      ...      ...      ...  ...            ...            ...   \n",
       "20920      0.0      0.0      0.0      0.0  ...           15.0           15.0   \n",
       "20921      0.0      0.0      0.0      0.0  ...           22.0           22.0   \n",
       "20922      0.0      0.0      0.0      0.0  ...           22.0           22.0   \n",
       "20923      0.0      0.0      0.0      0.0  ...           22.0           22.0   \n",
       "20924      0.0      0.0      0.0      0.0  ...           22.0           22.0   \n",
       "\n",
       "       ventas_maxm_8  ventas_maxm_9  ventas_maxm_10  ventas_maxm_11  \\\n",
       "0              351.0          351.0           351.0           351.0   \n",
       "1              351.0          351.0           351.0           351.0   \n",
       "2              351.0          351.0           351.0           351.0   \n",
       "3              351.0          351.0           351.0           351.0   \n",
       "4              362.0          362.0           362.0           362.0   \n",
       "...              ...            ...             ...             ...   \n",
       "20920           15.0           15.0            15.0            17.0   \n",
       "20921           22.0           22.0            22.0            22.0   \n",
       "20922           22.0           22.0            22.0            22.0   \n",
       "20923           22.0           22.0            22.0            22.0   \n",
       "20924           22.0           22.0            22.0            22.0   \n",
       "\n",
       "       ventas_maxm_12  ventas_maxm_13  ventas_maxm_14  ventas_maxm_15  \n",
       "0               351.0           351.0           351.0           351.0  \n",
       "1               351.0           351.0           351.0           351.0  \n",
       "2               351.0           351.0           351.0           351.0  \n",
       "3               351.0           351.0           351.0           351.0  \n",
       "4               362.0           362.0           362.0           362.0  \n",
       "...               ...             ...             ...             ...  \n",
       "20920            17.0            17.0            17.0            17.0  \n",
       "20921            22.0            22.0            22.0            22.0  \n",
       "20922            22.0            22.0            22.0            22.0  \n",
       "20923            22.0            22.0            22.0            22.0  \n",
       "20924            22.0            22.0            22.0            22.0  \n",
       "\n",
       "[20925 rows x 142 columns]"
      ]
     },
     "execution_count": 280,
     "metadata": {},
     "output_type": "execute_result"
    }
   ],
   "source": [
    "df_tablon = pd.concat(dataframes, axis = 1)\n",
    "\n",
    "df_tablon"
   ]
  },
  {
   "cell_type": "markdown",
   "id": "9f098f8a",
   "metadata": {},
   "source": [
    "## GUARDAR DATASET TRAS TRANSFORMACIÓN DE DATOS"
   ]
  },
  {
   "cell_type": "markdown",
   "id": "7656ba95",
   "metadata": {},
   "source": [
    "En formato pickle para no perder las modificaciones de metadatos."
   ]
  },
  {
   "cell_type": "code",
   "execution_count": 281,
   "id": "782bf43c",
   "metadata": {},
   "outputs": [],
   "source": [
    "ruta_df_tablon = ruta_proyecto + '/02_Datos/03_Trabajo/' + 'df_tablon.pickle'"
   ]
  },
  {
   "cell_type": "code",
   "execution_count": 282,
   "id": "44c7dd60",
   "metadata": {},
   "outputs": [],
   "source": [
    "df_tablon.to_pickle(ruta_df_tablon)"
   ]
  }
 ],
 "metadata": {
  "kernelspec": {
   "display_name": "Python 3 (ipykernel)",
   "language": "python",
   "name": "python3"
  },
  "language_info": {
   "codemirror_mode": {
    "name": "ipython",
    "version": 3
   },
   "file_extension": ".py",
   "mimetype": "text/x-python",
   "name": "python",
   "nbconvert_exporter": "python",
   "pygments_lexer": "ipython3",
   "version": "3.11.7"
  },
  "toc": {
   "base_numbering": 1,
   "nav_menu": {},
   "number_sections": true,
   "sideBar": true,
   "skip_h1_title": false,
   "title_cell": "Table of Contents",
   "title_sidebar": "Contents",
   "toc_cell": false,
   "toc_position": {
    "height": "calc(100% - 180px)",
    "left": "10px",
    "top": "150px",
    "width": "317.95px"
   },
   "toc_section_display": true,
   "toc_window_display": true
  },
  "varInspector": {
   "cols": {
    "lenName": 16,
    "lenType": 16,
    "lenVar": 40
   },
   "kernels_config": {
    "python": {
     "delete_cmd_postfix": "",
     "delete_cmd_prefix": "del ",
     "library": "var_list.py",
     "varRefreshCmd": "print(var_dic_list())"
    },
    "r": {
     "delete_cmd_postfix": ") ",
     "delete_cmd_prefix": "rm(",
     "library": "var_list.r",
     "varRefreshCmd": "cat(var_dic_list()) "
    }
   },
   "position": {
    "height": "546.85px",
    "left": "706.75px",
    "right": "20px",
    "top": "125px",
    "width": "657.367px"
   },
   "types_to_exclude": [
    "module",
    "function",
    "builtin_function_or_method",
    "instance",
    "_Feature"
   ],
   "window_display": false
  }
 },
 "nbformat": 4,
 "nbformat_minor": 5
}
