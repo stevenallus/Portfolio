{
 "cells": [
  {
   "cell_type": "markdown",
   "id": "88094b04",
   "metadata": {},
   "source": [
    "# SET UP"
   ]
  },
  {
   "cell_type": "markdown",
   "id": "2cc6b0de",
   "metadata": {},
   "source": [
    "## CREAR EL ENTORNO PARA EL PROYECTO"
   ]
  },
  {
   "cell_type": "markdown",
   "id": "ec2c52fc",
   "metadata": {},
   "source": [
    "Crear un nuevo entorno e instalar los paquetes básicos:\n",
    "\n",
    "1. Ir al prompt o terminal\n",
    "2. Copiar y poner la línea inferior:\n",
    "\n",
    "conda create --name leadscoring python numpy pandas matplotlib seaborn scikit-learn scipy sqlalchemy xgboost jupyter\n",
    "\n",
    "3. Activar el nuevo entorno:\n",
    "\n",
    "conda activate leadscoring\n",
    "\n",
    "4. Instalar los paquetes que están en otros canales:\n",
    "\n",
    "conda install -c conda-forge pyjanitor scikit-plot yellowbrick imbalanced-learn jupyter_contrib_nbextensions cloudpickle\n",
    "\n",
    "conda install -c districtdatalabs yellowbrick\n",
    "\n",
    "pip install category_encoders\n",
    "\n",
    "5. Crear el environment.yml\n",
    "\n",
    "conda env export > leadscoring.yml"
   ]
  },
  {
   "cell_type": "markdown",
   "id": "b281fbc6-4997-44b7-a467-e65ef2e787db",
   "metadata": {},
   "source": [
    "#### Notas explicativas"
   ]
  },
  {
   "cell_type": "markdown",
   "id": "96d18c6a-cbcd-46c5-9229-41d8c12bacb0",
   "metadata": {},
   "source": [
    "- Creo un entorno ya que se necesita en produccion que sea un entorno con las mismas versiones con las cuales se entreno el modelo, sino cuando cambie la version de algun paquete puedo tener problemas en produccion."
   ]
  },
  {
   "cell_type": "markdown",
   "id": "234469e4",
   "metadata": {},
   "source": [
    "## IMPORTAR PAQUETES"
   ]
  },
  {
   "cell_type": "code",
   "execution_count": 1,
   "id": "18dab684",
   "metadata": {},
   "outputs": [],
   "source": [
    "import os\n",
    "import numpy as np\n",
    "import pandas as pd\n",
    "\n",
    "#Automcompletar rápido\n",
    "%config IPCompleter.greedy=True"
   ]
  },
  {
   "cell_type": "markdown",
   "id": "aa2291ac",
   "metadata": {},
   "source": [
    "## CREAR EL DIRECTORIO DEL PROYECTO"
   ]
  },
  {
   "cell_type": "markdown",
   "id": "9b376a0e",
   "metadata": {},
   "source": [
    "### Definir el directorio raiz donde vamos a crear el proyecto"
   ]
  },
  {
   "cell_type": "code",
   "execution_count": 2,
   "id": "ff896569",
   "metadata": {},
   "outputs": [],
   "source": [
    "raiz = 'volumes/STEVEN/PROYECTOS'"
   ]
  },
  {
   "cell_type": "markdown",
   "id": "ded3d58c",
   "metadata": {},
   "source": [
    "### Definir el nombre del proyecto"
   ]
  },
  {
   "cell_type": "code",
   "execution_count": 3,
   "id": "3b7dece1",
   "metadata": {},
   "outputs": [],
   "source": [
    "nombre_dir = '01_Lead_Scoring'"
   ]
  },
  {
   "cell_type": "markdown",
   "id": "e98c881a",
   "metadata": {},
   "source": [
    "### Crear el directorio y la estructura del proyecto"
   ]
  },
  {
   "cell_type": "code",
   "execution_count": 4,
   "id": "ea789940",
   "metadata": {},
   "outputs": [
    {
     "name": "stdout",
     "output_type": "stream",
     "text": [
      "Se ha creado satisfactoriamente el directorio /Users/stevenallus/Documents/MAC_Google_Drive/EstructuraDirectorio/03_MACHINE_LEARNING/08_CASOS/01_Lead_Scoring \n"
     ]
    }
   ],
   "source": [
    "# Ruta base donde se crearán las carpetas\n",
    "path = os.path.expanduser('~/'+raiz+nombre_dir)\n",
    "\n",
    "# Lista de nombres de las carpetas a crear\n",
    "carpetas = [\n",
    "    '01_Documentos',\n",
    "    '02_Datos',\n",
    "    '02_Datos/01_Originales',\n",
    "    '02_Datos/02_Validacion',\n",
    "    '02_Datos/03_Trabajo',\n",
    "    '02_Datos/04_Caches',\n",
    "    '03_Notebooks',\n",
    "    '03_Notebooks/01_Funciones',\n",
    "    '03_Notebooks/02_Desarrollo',\n",
    "    '03_Notebooks/03_Sistema',\n",
    "    '04_Modelos',\n",
    "    '05_Resultados',\n",
    "    '09_Otros'\n",
    "]\n",
    "\n",
    "# Intentar crear las carpetas\n",
    "try:\n",
    "    for carpeta in carpetas:\n",
    "        ruta_carpeta = os.path.join(path, carpeta)\n",
    "        os.makedirs(ruta_carpeta, exist_ok=True)\n",
    "\n",
    "    # Confirmar que ha funcionado bien\n",
    "    print(\"Se ha creado satisfactoriamente el directorio %s \" % path)\n",
    "except OSError:\n",
    "    print(\"La creación del directorio %s ha fallado\" % path)"
   ]
  },
  {
   "cell_type": "markdown",
   "id": "fbdda974",
   "metadata": {},
   "source": [
    "### Situar el directorio de trabajo en el proyecto"
   ]
  },
  {
   "cell_type": "code",
   "execution_count": 5,
   "id": "6cf7027a",
   "metadata": {},
   "outputs": [],
   "source": [
    "os.chdir(path)"
   ]
  },
  {
   "cell_type": "markdown",
   "id": "c80bcf5b",
   "metadata": {},
   "source": [
    "### Mover el environment.yml"
   ]
  },
  {
   "cell_type": "markdown",
   "id": "5cfd72fa",
   "metadata": {},
   "source": [
    "Buscar manualmente el archivo leadscoring.yml, y moverlo a la carpeta /01_Documentos'"
   ]
  },
  {
   "cell_type": "markdown",
   "id": "eaae5ba8",
   "metadata": {},
   "source": [
    "## CREAR LOS DATASETS INICIALES"
   ]
  },
  {
   "cell_type": "markdown",
   "id": "18e327d2",
   "metadata": {},
   "source": [
    "Poner los datos originales en la carpeta '/02_Datos/01_Originales'"
   ]
  },
  {
   "cell_type": "markdown",
   "id": "7e6b4179",
   "metadata": {},
   "source": [
    "### Importar los datos"
   ]
  },
  {
   "cell_type": "markdown",
   "id": "a0aada6d",
   "metadata": {},
   "source": [
    "Sustituir el nombre_fichero_datos."
   ]
  },
  {
   "cell_type": "code",
   "execution_count": 6,
   "id": "a991faf3",
   "metadata": {},
   "outputs": [],
   "source": [
    "nombre_fichero_datos = 'leads.csv'"
   ]
  },
  {
   "cell_type": "markdown",
   "id": "6f69525e",
   "metadata": {},
   "source": [
    "Cargar los datos."
   ]
  },
  {
   "cell_type": "code",
   "execution_count": 7,
   "id": "0af0f484",
   "metadata": {},
   "outputs": [
    {
     "data": {
      "text/html": [
       "<div>\n",
       "<style scoped>\n",
       "    .dataframe tbody tr th:only-of-type {\n",
       "        vertical-align: middle;\n",
       "    }\n",
       "\n",
       "    .dataframe tbody tr th {\n",
       "        vertical-align: top;\n",
       "    }\n",
       "\n",
       "    .dataframe thead th {\n",
       "        text-align: right;\n",
       "    }\n",
       "</style>\n",
       "<table border=\"1\" class=\"dataframe\">\n",
       "  <thead>\n",
       "    <tr style=\"text-align: right;\">\n",
       "      <th></th>\n",
       "      <th>origen</th>\n",
       "      <th>fuente</th>\n",
       "      <th>no_enviar_email</th>\n",
       "      <th>no_llamar</th>\n",
       "      <th>compra</th>\n",
       "      <th>visitas_total</th>\n",
       "      <th>tiempo_en_site_total</th>\n",
       "      <th>paginas_vistas_visita</th>\n",
       "      <th>ult_actividad</th>\n",
       "      <th>ambito</th>\n",
       "      <th>ocupacion</th>\n",
       "      <th>conociste_google</th>\n",
       "      <th>conociste_revista</th>\n",
       "      <th>conociste_periodico</th>\n",
       "      <th>conociste_youtube</th>\n",
       "      <th>conociste_facebook</th>\n",
       "      <th>conociste_referencias</th>\n",
       "      <th>score_actividad</th>\n",
       "      <th>score_perfil</th>\n",
       "      <th>descarga_lm</th>\n",
       "    </tr>\n",
       "    <tr>\n",
       "      <th>id</th>\n",
       "      <th></th>\n",
       "      <th></th>\n",
       "      <th></th>\n",
       "      <th></th>\n",
       "      <th></th>\n",
       "      <th></th>\n",
       "      <th></th>\n",
       "      <th></th>\n",
       "      <th></th>\n",
       "      <th></th>\n",
       "      <th></th>\n",
       "      <th></th>\n",
       "      <th></th>\n",
       "      <th></th>\n",
       "      <th></th>\n",
       "      <th></th>\n",
       "      <th></th>\n",
       "      <th></th>\n",
       "      <th></th>\n",
       "      <th></th>\n",
       "    </tr>\n",
       "  </thead>\n",
       "  <tbody>\n",
       "    <tr>\n",
       "      <th>660737</th>\n",
       "      <td>API</td>\n",
       "      <td>Chat</td>\n",
       "      <td>No</td>\n",
       "      <td>No</td>\n",
       "      <td>0</td>\n",
       "      <td>0.0</td>\n",
       "      <td>0</td>\n",
       "      <td>0.00</td>\n",
       "      <td>Page Visited on Website</td>\n",
       "      <td>Select</td>\n",
       "      <td>Unemployed</td>\n",
       "      <td>No</td>\n",
       "      <td>No</td>\n",
       "      <td>No</td>\n",
       "      <td>No</td>\n",
       "      <td>No</td>\n",
       "      <td>No</td>\n",
       "      <td>15.0</td>\n",
       "      <td>15.0</td>\n",
       "      <td>No</td>\n",
       "    </tr>\n",
       "    <tr>\n",
       "      <th>660728</th>\n",
       "      <td>API</td>\n",
       "      <td>Organic Search</td>\n",
       "      <td>No</td>\n",
       "      <td>No</td>\n",
       "      <td>0</td>\n",
       "      <td>5.0</td>\n",
       "      <td>674</td>\n",
       "      <td>2.50</td>\n",
       "      <td>Email Opened</td>\n",
       "      <td>Select</td>\n",
       "      <td>Unemployed</td>\n",
       "      <td>No</td>\n",
       "      <td>No</td>\n",
       "      <td>No</td>\n",
       "      <td>No</td>\n",
       "      <td>No</td>\n",
       "      <td>No</td>\n",
       "      <td>15.0</td>\n",
       "      <td>15.0</td>\n",
       "      <td>No</td>\n",
       "    </tr>\n",
       "    <tr>\n",
       "      <th>660727</th>\n",
       "      <td>Landing Page Submission</td>\n",
       "      <td>Direct Traffic</td>\n",
       "      <td>No</td>\n",
       "      <td>No</td>\n",
       "      <td>1</td>\n",
       "      <td>2.0</td>\n",
       "      <td>1532</td>\n",
       "      <td>2.00</td>\n",
       "      <td>Email Opened</td>\n",
       "      <td>Business Administration</td>\n",
       "      <td>Student</td>\n",
       "      <td>No</td>\n",
       "      <td>No</td>\n",
       "      <td>No</td>\n",
       "      <td>No</td>\n",
       "      <td>No</td>\n",
       "      <td>No</td>\n",
       "      <td>14.0</td>\n",
       "      <td>20.0</td>\n",
       "      <td>Yes</td>\n",
       "    </tr>\n",
       "    <tr>\n",
       "      <th>660719</th>\n",
       "      <td>Landing Page Submission</td>\n",
       "      <td>Direct Traffic</td>\n",
       "      <td>No</td>\n",
       "      <td>No</td>\n",
       "      <td>0</td>\n",
       "      <td>1.0</td>\n",
       "      <td>305</td>\n",
       "      <td>1.00</td>\n",
       "      <td>Unreachable</td>\n",
       "      <td>Media and Advertising</td>\n",
       "      <td>Unemployed</td>\n",
       "      <td>No</td>\n",
       "      <td>No</td>\n",
       "      <td>No</td>\n",
       "      <td>No</td>\n",
       "      <td>No</td>\n",
       "      <td>No</td>\n",
       "      <td>13.0</td>\n",
       "      <td>17.0</td>\n",
       "      <td>No</td>\n",
       "    </tr>\n",
       "    <tr>\n",
       "      <th>660681</th>\n",
       "      <td>Landing Page Submission</td>\n",
       "      <td>Google</td>\n",
       "      <td>No</td>\n",
       "      <td>No</td>\n",
       "      <td>1</td>\n",
       "      <td>2.0</td>\n",
       "      <td>1428</td>\n",
       "      <td>1.00</td>\n",
       "      <td>Converted to Lead</td>\n",
       "      <td>Select</td>\n",
       "      <td>Unemployed</td>\n",
       "      <td>No</td>\n",
       "      <td>No</td>\n",
       "      <td>No</td>\n",
       "      <td>No</td>\n",
       "      <td>No</td>\n",
       "      <td>No</td>\n",
       "      <td>15.0</td>\n",
       "      <td>18.0</td>\n",
       "      <td>No</td>\n",
       "    </tr>\n",
       "    <tr>\n",
       "      <th>...</th>\n",
       "      <td>...</td>\n",
       "      <td>...</td>\n",
       "      <td>...</td>\n",
       "      <td>...</td>\n",
       "      <td>...</td>\n",
       "      <td>...</td>\n",
       "      <td>...</td>\n",
       "      <td>...</td>\n",
       "      <td>...</td>\n",
       "      <td>...</td>\n",
       "      <td>...</td>\n",
       "      <td>...</td>\n",
       "      <td>...</td>\n",
       "      <td>...</td>\n",
       "      <td>...</td>\n",
       "      <td>...</td>\n",
       "      <td>...</td>\n",
       "      <td>...</td>\n",
       "      <td>...</td>\n",
       "      <td>...</td>\n",
       "    </tr>\n",
       "    <tr>\n",
       "      <th>579564</th>\n",
       "      <td>Landing Page Submission</td>\n",
       "      <td>Direct Traffic</td>\n",
       "      <td>Yes</td>\n",
       "      <td>No</td>\n",
       "      <td>1</td>\n",
       "      <td>8.0</td>\n",
       "      <td>1845</td>\n",
       "      <td>2.67</td>\n",
       "      <td>Email Marked Spam</td>\n",
       "      <td>IT Projects Management</td>\n",
       "      <td>Unemployed</td>\n",
       "      <td>No</td>\n",
       "      <td>No</td>\n",
       "      <td>No</td>\n",
       "      <td>No</td>\n",
       "      <td>No</td>\n",
       "      <td>No</td>\n",
       "      <td>15.0</td>\n",
       "      <td>17.0</td>\n",
       "      <td>No</td>\n",
       "    </tr>\n",
       "    <tr>\n",
       "      <th>579546</th>\n",
       "      <td>Landing Page Submission</td>\n",
       "      <td>Direct Traffic</td>\n",
       "      <td>No</td>\n",
       "      <td>No</td>\n",
       "      <td>0</td>\n",
       "      <td>2.0</td>\n",
       "      <td>238</td>\n",
       "      <td>2.00</td>\n",
       "      <td>SMS Sent</td>\n",
       "      <td>Media and Advertising</td>\n",
       "      <td>Unemployed</td>\n",
       "      <td>No</td>\n",
       "      <td>No</td>\n",
       "      <td>No</td>\n",
       "      <td>No</td>\n",
       "      <td>No</td>\n",
       "      <td>No</td>\n",
       "      <td>14.0</td>\n",
       "      <td>19.0</td>\n",
       "      <td>Yes</td>\n",
       "    </tr>\n",
       "    <tr>\n",
       "      <th>579545</th>\n",
       "      <td>Landing Page Submission</td>\n",
       "      <td>Direct Traffic</td>\n",
       "      <td>Yes</td>\n",
       "      <td>No</td>\n",
       "      <td>0</td>\n",
       "      <td>2.0</td>\n",
       "      <td>199</td>\n",
       "      <td>2.00</td>\n",
       "      <td>SMS Sent</td>\n",
       "      <td>Business Administration</td>\n",
       "      <td>Unemployed</td>\n",
       "      <td>No</td>\n",
       "      <td>No</td>\n",
       "      <td>No</td>\n",
       "      <td>No</td>\n",
       "      <td>No</td>\n",
       "      <td>No</td>\n",
       "      <td>13.0</td>\n",
       "      <td>20.0</td>\n",
       "      <td>Yes</td>\n",
       "    </tr>\n",
       "    <tr>\n",
       "      <th>579538</th>\n",
       "      <td>Landing Page Submission</td>\n",
       "      <td>Google</td>\n",
       "      <td>No</td>\n",
       "      <td>No</td>\n",
       "      <td>1</td>\n",
       "      <td>3.0</td>\n",
       "      <td>499</td>\n",
       "      <td>3.00</td>\n",
       "      <td>SMS Sent</td>\n",
       "      <td>Human Resource Management</td>\n",
       "      <td>NaN</td>\n",
       "      <td>No</td>\n",
       "      <td>No</td>\n",
       "      <td>No</td>\n",
       "      <td>No</td>\n",
       "      <td>No</td>\n",
       "      <td>No</td>\n",
       "      <td>15.0</td>\n",
       "      <td>16.0</td>\n",
       "      <td>No</td>\n",
       "    </tr>\n",
       "    <tr>\n",
       "      <th>579533</th>\n",
       "      <td>Landing Page Submission</td>\n",
       "      <td>Direct Traffic</td>\n",
       "      <td>No</td>\n",
       "      <td>No</td>\n",
       "      <td>1</td>\n",
       "      <td>6.0</td>\n",
       "      <td>1279</td>\n",
       "      <td>3.00</td>\n",
       "      <td>SMS Sent</td>\n",
       "      <td>Supply Chain Management</td>\n",
       "      <td>Unemployed</td>\n",
       "      <td>No</td>\n",
       "      <td>No</td>\n",
       "      <td>No</td>\n",
       "      <td>No</td>\n",
       "      <td>No</td>\n",
       "      <td>No</td>\n",
       "      <td>15.0</td>\n",
       "      <td>18.0</td>\n",
       "      <td>Yes</td>\n",
       "    </tr>\n",
       "  </tbody>\n",
       "</table>\n",
       "<p>9093 rows × 20 columns</p>\n",
       "</div>"
      ],
      "text/plain": [
       "                         origen          fuente no_enviar_email no_llamar  \\\n",
       "id                                                                          \n",
       "660737                      API            Chat              No        No   \n",
       "660728                      API  Organic Search              No        No   \n",
       "660727  Landing Page Submission  Direct Traffic              No        No   \n",
       "660719  Landing Page Submission  Direct Traffic              No        No   \n",
       "660681  Landing Page Submission          Google              No        No   \n",
       "...                         ...             ...             ...       ...   \n",
       "579564  Landing Page Submission  Direct Traffic             Yes        No   \n",
       "579546  Landing Page Submission  Direct Traffic              No        No   \n",
       "579545  Landing Page Submission  Direct Traffic             Yes        No   \n",
       "579538  Landing Page Submission          Google              No        No   \n",
       "579533  Landing Page Submission  Direct Traffic              No        No   \n",
       "\n",
       "        compra  visitas_total  tiempo_en_site_total  paginas_vistas_visita  \\\n",
       "id                                                                           \n",
       "660737       0            0.0                     0                   0.00   \n",
       "660728       0            5.0                   674                   2.50   \n",
       "660727       1            2.0                  1532                   2.00   \n",
       "660719       0            1.0                   305                   1.00   \n",
       "660681       1            2.0                  1428                   1.00   \n",
       "...        ...            ...                   ...                    ...   \n",
       "579564       1            8.0                  1845                   2.67   \n",
       "579546       0            2.0                   238                   2.00   \n",
       "579545       0            2.0                   199                   2.00   \n",
       "579538       1            3.0                   499                   3.00   \n",
       "579533       1            6.0                  1279                   3.00   \n",
       "\n",
       "                  ult_actividad                     ambito   ocupacion  \\\n",
       "id                                                                       \n",
       "660737  Page Visited on Website                     Select  Unemployed   \n",
       "660728             Email Opened                     Select  Unemployed   \n",
       "660727             Email Opened    Business Administration     Student   \n",
       "660719              Unreachable      Media and Advertising  Unemployed   \n",
       "660681        Converted to Lead                     Select  Unemployed   \n",
       "...                         ...                        ...         ...   \n",
       "579564        Email Marked Spam     IT Projects Management  Unemployed   \n",
       "579546                 SMS Sent      Media and Advertising  Unemployed   \n",
       "579545                 SMS Sent    Business Administration  Unemployed   \n",
       "579538                 SMS Sent  Human Resource Management         NaN   \n",
       "579533                 SMS Sent    Supply Chain Management  Unemployed   \n",
       "\n",
       "       conociste_google conociste_revista conociste_periodico  \\\n",
       "id                                                              \n",
       "660737               No                No                  No   \n",
       "660728               No                No                  No   \n",
       "660727               No                No                  No   \n",
       "660719               No                No                  No   \n",
       "660681               No                No                  No   \n",
       "...                 ...               ...                 ...   \n",
       "579564               No                No                  No   \n",
       "579546               No                No                  No   \n",
       "579545               No                No                  No   \n",
       "579538               No                No                  No   \n",
       "579533               No                No                  No   \n",
       "\n",
       "       conociste_youtube conociste_facebook conociste_referencias  \\\n",
       "id                                                                  \n",
       "660737                No                 No                    No   \n",
       "660728                No                 No                    No   \n",
       "660727                No                 No                    No   \n",
       "660719                No                 No                    No   \n",
       "660681                No                 No                    No   \n",
       "...                  ...                ...                   ...   \n",
       "579564                No                 No                    No   \n",
       "579546                No                 No                    No   \n",
       "579545                No                 No                    No   \n",
       "579538                No                 No                    No   \n",
       "579533                No                 No                    No   \n",
       "\n",
       "        score_actividad  score_perfil descarga_lm  \n",
       "id                                                 \n",
       "660737             15.0          15.0          No  \n",
       "660728             15.0          15.0          No  \n",
       "660727             14.0          20.0         Yes  \n",
       "660719             13.0          17.0          No  \n",
       "660681             15.0          18.0          No  \n",
       "...                 ...           ...         ...  \n",
       "579564             15.0          17.0          No  \n",
       "579546             14.0          19.0         Yes  \n",
       "579545             13.0          20.0         Yes  \n",
       "579538             15.0          16.0          No  \n",
       "579533             15.0          18.0         Yes  \n",
       "\n",
       "[9093 rows x 20 columns]"
      ]
     },
     "execution_count": 7,
     "metadata": {},
     "output_type": "execute_result"
    }
   ],
   "source": [
    "ruta_completa = path + '/02_Datos/01_Originales/' + nombre_fichero_datos\n",
    "\n",
    "datos = pd.read_csv(ruta_completa,index_col='id', sep = ';')\n",
    "datos"
   ]
  },
  {
   "cell_type": "markdown",
   "id": "a4fedb2a",
   "metadata": {},
   "source": [
    "### Extraer y reservar el dataset de validación"
   ]
  },
  {
   "cell_type": "code",
   "execution_count": 8,
   "id": "05d2c9b5",
   "metadata": {},
   "outputs": [],
   "source": [
    "val= datos.sample(frac = 0.3)"
   ]
  },
  {
   "cell_type": "code",
   "execution_count": 9,
   "id": "db654eea",
   "metadata": {},
   "outputs": [],
   "source": [
    "nombre_fichero_validacion = 'validacion.csv'\n",
    "\n",
    "ruta_completa = path + '/02_Datos/02_Validacion/' + nombre_fichero_validacion\n",
    "\n",
    "val.to_csv(ruta_completa)"
   ]
  },
  {
   "cell_type": "markdown",
   "id": "f84e120e",
   "metadata": {},
   "source": [
    "### Extraer y guardar el dataset de trabajo"
   ]
  },
  {
   "cell_type": "code",
   "execution_count": 10,
   "id": "e0ce153c",
   "metadata": {},
   "outputs": [],
   "source": [
    "trabajo = datos.loc[~datos.index.isin(val.index)]"
   ]
  },
  {
   "cell_type": "code",
   "execution_count": 11,
   "id": "dbb79c5f",
   "metadata": {},
   "outputs": [],
   "source": [
    "nombre_fichero_trabajo = 'trabajo.csv'\n",
    "\n",
    "ruta_completa = path + '/02_Datos/03_Trabajo/' + nombre_fichero_trabajo\n",
    "\n",
    "trabajo.to_csv(ruta_completa)"
   ]
  },
  {
   "cell_type": "markdown",
   "id": "e7f8364c-312b-4cf5-81fc-c6aa491e5167",
   "metadata": {},
   "source": [
    "#### Nota"
   ]
  },
  {
   "cell_type": "markdown",
   "id": "d215bbf3-89f0-49ed-9dea-b41c934ffc91",
   "metadata": {},
   "source": [
    "No cojo una muestra del dataset\n",
    "\n",
    "Tengo pocos datos, no tiene sentido hacer esto, ahora si tengo una gran cantidad de datos entonces si que me interesa extraer una muestra donde voy a hacer validacion cruzada, train test, etc... Si es computacionalmente intenso lo que puedo hacer es coger esa muestra."
   ]
  }
 ],
 "metadata": {
  "kernelspec": {
   "display_name": "Python 3 (ipykernel)",
   "language": "python",
   "name": "python3"
  },
  "language_info": {
   "codemirror_mode": {
    "name": "ipython",
    "version": 3
   },
   "file_extension": ".py",
   "mimetype": "text/x-python",
   "name": "python",
   "nbconvert_exporter": "python",
   "pygments_lexer": "ipython3",
   "version": "3.11.5"
  },
  "toc": {
   "base_numbering": 1,
   "nav_menu": {},
   "number_sections": true,
   "sideBar": true,
   "skip_h1_title": false,
   "title_cell": "Table of Contents",
   "title_sidebar": "Contents",
   "toc_cell": false,
   "toc_position": {
    "height": "calc(100% - 180px)",
    "left": "10px",
    "top": "150px",
    "width": "313.068px"
   },
   "toc_section_display": true,
   "toc_window_display": true
  },
  "varInspector": {
   "cols": {
    "lenName": 16,
    "lenType": 16,
    "lenVar": 40
   },
   "kernels_config": {
    "python": {
     "delete_cmd_postfix": "",
     "delete_cmd_prefix": "del ",
     "library": "var_list.py",
     "varRefreshCmd": "print(var_dic_list())"
    },
    "r": {
     "delete_cmd_postfix": ") ",
     "delete_cmd_prefix": "rm(",
     "library": "var_list.r",
     "varRefreshCmd": "cat(var_dic_list()) "
    }
   },
   "types_to_exclude": [
    "module",
    "function",
    "builtin_function_or_method",
    "instance",
    "_Feature"
   ],
   "window_display": false
  }
 },
 "nbformat": 4,
 "nbformat_minor": 5
}
