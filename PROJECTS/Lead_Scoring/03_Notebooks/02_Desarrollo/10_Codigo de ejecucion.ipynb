{
 "cells": [
  {
   "cell_type": "markdown",
   "id": "c7f65e25",
   "metadata": {},
   "source": [
    "# CODIGO DE EJECUCION"
   ]
  },
  {
   "cell_type": "code",
   "execution_count": 2,
   "id": "ffe7be80",
   "metadata": {},
   "outputs": [],
   "source": [
    "import cloudpickle\n",
    "import pandas as pd\n",
    "from janitor import clean_names\n",
    "\n",
    "ruta_proyecto = '/Volumes/STEVEN/PROYECTOS/Lead_Scoring'\n",
    "\n",
    "nombre_fichero_datos = 'validacion.csv'\n",
    "\n",
    "ruta_completa = ruta_proyecto + '/02_Datos/02_Validacion/' + nombre_fichero_datos\n",
    "\n",
    "df = pd.read_csv(ruta_completa,index_col='id', sep=',')\n",
    "\n",
    "df = df.drop_duplicates(inplace = False)\n",
    "df = df.loc[(df.no_llamar!='OTROS') & (df.no_enviar_email!='Yes') & (df.ult_actividad!='Email Bounced')]\n",
    "                     \n",
    "variables_finales = ['euribor3m',\n",
    "                   'num_dias_ultimo_contacto',\n",
    "                   'resultado_campana_anterior',\n",
    "                   'variacion_tasa_empleo']\n",
    "                     \n",
    "variables_finales = ['ambito',\n",
    "                   'descarga_lm',\n",
    "                   'ocupacion',\n",
    "                   'paginas_vistas_visita',\n",
    "                   'score_actividad',\n",
    "                   'score_perfil',\n",
    "                   'tiempo_en_site_total',\n",
    "                   'ult_actividad',\n",
    "                   'visitas_total'\n",
    "                  ]\n",
    "\n",
    "nombre_pipe_ejecucion = 'pipe_ejecucion.pickle'\n",
    "\n",
    "ruta_pipe_ejecucion = ruta_proyecto + '/04_Modelos/' + nombre_pipe_ejecucion\n",
    "\n",
    "with open(ruta_pipe_ejecucion, mode='rb') as file:\n",
    "   pipe_ejecucion = cloudpickle.load(file)\n",
    "\n",
    "scoring = pipe_ejecucion.predict_proba(df)[:, 1]"
   ]
  }
 ],
 "metadata": {
  "kernelspec": {
   "display_name": "Python 3 (ipykernel)",
   "language": "python",
   "name": "python3"
  },
  "language_info": {
   "codemirror_mode": {
    "name": "ipython",
    "version": 3
   },
   "file_extension": ".py",
   "mimetype": "text/x-python",
   "name": "python",
   "nbconvert_exporter": "python",
   "pygments_lexer": "ipython3",
   "version": "3.11.5"
  },
  "toc": {
   "base_numbering": 1,
   "nav_menu": {},
   "number_sections": true,
   "sideBar": true,
   "skip_h1_title": false,
   "title_cell": "Table of Contents",
   "title_sidebar": "Contents",
   "toc_cell": false,
   "toc_position": {},
   "toc_section_display": true,
   "toc_window_display": true
  },
  "varInspector": {
   "cols": {
    "lenName": 16,
    "lenType": 16,
    "lenVar": 40
   },
   "kernels_config": {
    "python": {
     "delete_cmd_postfix": "",
     "delete_cmd_prefix": "del ",
     "library": "var_list.py",
     "varRefreshCmd": "print(var_dic_list())"
    },
    "r": {
     "delete_cmd_postfix": ") ",
     "delete_cmd_prefix": "rm(",
     "library": "var_list.r",
     "varRefreshCmd": "cat(var_dic_list()) "
    }
   },
   "position": {
    "height": "388.85px",
    "left": "1070px",
    "right": "20px",
    "top": "120px",
    "width": "350px"
   },
   "types_to_exclude": [
    "module",
    "function",
    "builtin_function_or_method",
    "instance",
    "_Feature"
   ],
   "window_display": false
  }
 },
 "nbformat": 4,
 "nbformat_minor": 5
}
