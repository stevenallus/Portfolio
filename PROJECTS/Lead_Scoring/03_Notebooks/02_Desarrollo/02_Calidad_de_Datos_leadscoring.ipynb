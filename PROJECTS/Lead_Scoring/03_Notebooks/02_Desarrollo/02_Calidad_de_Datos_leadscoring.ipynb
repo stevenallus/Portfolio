{
 "cells": [
  {
   "cell_type": "markdown",
   "id": "d31dea65",
   "metadata": {},
   "source": [
    "# CALIDAD DE DATOS"
   ]
  },
  {
   "cell_type": "markdown",
   "id": "swiss-fault",
   "metadata": {},
   "source": [
    "## IMPORTAR PAQUETES"
   ]
  },
  {
   "cell_type": "code",
   "execution_count": 66,
   "id": "adjacent-toddler",
   "metadata": {},
   "outputs": [],
   "source": [
    "import os\n",
    "import numpy as np\n",
    "import pandas as pd\n",
    "from janitor import clean_names\n",
    "\n",
    "#Automcompletar rápido\n",
    "%config IPCompleter.greedy=True"
   ]
  },
  {
   "cell_type": "markdown",
   "id": "graduate-compensation",
   "metadata": {},
   "source": [
    "## IMPORTAR LOS DATOS"
   ]
  },
  {
   "cell_type": "markdown",
   "id": "38bb812b",
   "metadata": {},
   "source": [
    "Sustituir la ruta del proyecto."
   ]
  },
  {
   "cell_type": "code",
   "execution_count": 67,
   "id": "28c63848",
   "metadata": {},
   "outputs": [],
   "source": [
    "ruta_proyecto = '../../'"
   ]
  },
  {
   "cell_type": "markdown",
   "id": "ed116854",
   "metadata": {},
   "source": [
    "Trabajo con el de trabajo.csv que he creado en el notebook anterior, el de la muestra que es el 70% de los registros"
   ]
  },
  {
   "cell_type": "code",
   "execution_count": 68,
   "id": "5d9dc5ea",
   "metadata": {},
   "outputs": [],
   "source": [
    "nombre_fichero_datos = 'trabajo.csv'"
   ]
  },
  {
   "cell_type": "markdown",
   "id": "ae75bf0b",
   "metadata": {},
   "source": [
    "Cargar los datos."
   ]
  },
  {
   "cell_type": "code",
   "execution_count": 69,
   "id": "24ff453b",
   "metadata": {},
   "outputs": [
    {
     "data": {
      "text/html": [
       "<div>\n",
       "<style scoped>\n",
       "    .dataframe tbody tr th:only-of-type {\n",
       "        vertical-align: middle;\n",
       "    }\n",
       "\n",
       "    .dataframe tbody tr th {\n",
       "        vertical-align: top;\n",
       "    }\n",
       "\n",
       "    .dataframe thead th {\n",
       "        text-align: right;\n",
       "    }\n",
       "</style>\n",
       "<table border=\"1\" class=\"dataframe\">\n",
       "  <thead>\n",
       "    <tr style=\"text-align: right;\">\n",
       "      <th></th>\n",
       "      <th>origen</th>\n",
       "      <th>fuente</th>\n",
       "      <th>no_enviar_email</th>\n",
       "      <th>no_llamar</th>\n",
       "      <th>compra</th>\n",
       "      <th>visitas_total</th>\n",
       "      <th>tiempo_en_site_total</th>\n",
       "      <th>paginas_vistas_visita</th>\n",
       "      <th>ult_actividad</th>\n",
       "      <th>ambito</th>\n",
       "      <th>ocupacion</th>\n",
       "      <th>conociste_google</th>\n",
       "      <th>conociste_revista</th>\n",
       "      <th>conociste_periodico</th>\n",
       "      <th>conociste_youtube</th>\n",
       "      <th>conociste_facebook</th>\n",
       "      <th>conociste_referencias</th>\n",
       "      <th>score_actividad</th>\n",
       "      <th>score_perfil</th>\n",
       "      <th>descarga_lm</th>\n",
       "    </tr>\n",
       "    <tr>\n",
       "      <th>id</th>\n",
       "      <th></th>\n",
       "      <th></th>\n",
       "      <th></th>\n",
       "      <th></th>\n",
       "      <th></th>\n",
       "      <th></th>\n",
       "      <th></th>\n",
       "      <th></th>\n",
       "      <th></th>\n",
       "      <th></th>\n",
       "      <th></th>\n",
       "      <th></th>\n",
       "      <th></th>\n",
       "      <th></th>\n",
       "      <th></th>\n",
       "      <th></th>\n",
       "      <th></th>\n",
       "      <th></th>\n",
       "      <th></th>\n",
       "      <th></th>\n",
       "    </tr>\n",
       "  </thead>\n",
       "  <tbody>\n",
       "    <tr>\n",
       "      <th>660737</th>\n",
       "      <td>API</td>\n",
       "      <td>Chat</td>\n",
       "      <td>No</td>\n",
       "      <td>No</td>\n",
       "      <td>0</td>\n",
       "      <td>0.0</td>\n",
       "      <td>0</td>\n",
       "      <td>0.0</td>\n",
       "      <td>Page Visited on Website</td>\n",
       "      <td>Select</td>\n",
       "      <td>Unemployed</td>\n",
       "      <td>No</td>\n",
       "      <td>No</td>\n",
       "      <td>No</td>\n",
       "      <td>No</td>\n",
       "      <td>No</td>\n",
       "      <td>No</td>\n",
       "      <td>15.0</td>\n",
       "      <td>15.0</td>\n",
       "      <td>No</td>\n",
       "    </tr>\n",
       "    <tr>\n",
       "      <th>660728</th>\n",
       "      <td>API</td>\n",
       "      <td>Organic Search</td>\n",
       "      <td>No</td>\n",
       "      <td>No</td>\n",
       "      <td>0</td>\n",
       "      <td>5.0</td>\n",
       "      <td>674</td>\n",
       "      <td>2.5</td>\n",
       "      <td>Email Opened</td>\n",
       "      <td>Select</td>\n",
       "      <td>Unemployed</td>\n",
       "      <td>No</td>\n",
       "      <td>No</td>\n",
       "      <td>No</td>\n",
       "      <td>No</td>\n",
       "      <td>No</td>\n",
       "      <td>No</td>\n",
       "      <td>15.0</td>\n",
       "      <td>15.0</td>\n",
       "      <td>No</td>\n",
       "    </tr>\n",
       "    <tr>\n",
       "      <th>660727</th>\n",
       "      <td>Landing Page Submission</td>\n",
       "      <td>Direct Traffic</td>\n",
       "      <td>No</td>\n",
       "      <td>No</td>\n",
       "      <td>1</td>\n",
       "      <td>2.0</td>\n",
       "      <td>1532</td>\n",
       "      <td>2.0</td>\n",
       "      <td>Email Opened</td>\n",
       "      <td>Business Administration</td>\n",
       "      <td>Student</td>\n",
       "      <td>No</td>\n",
       "      <td>No</td>\n",
       "      <td>No</td>\n",
       "      <td>No</td>\n",
       "      <td>No</td>\n",
       "      <td>No</td>\n",
       "      <td>14.0</td>\n",
       "      <td>20.0</td>\n",
       "      <td>Yes</td>\n",
       "    </tr>\n",
       "    <tr>\n",
       "      <th>660719</th>\n",
       "      <td>Landing Page Submission</td>\n",
       "      <td>Direct Traffic</td>\n",
       "      <td>No</td>\n",
       "      <td>No</td>\n",
       "      <td>0</td>\n",
       "      <td>1.0</td>\n",
       "      <td>305</td>\n",
       "      <td>1.0</td>\n",
       "      <td>Unreachable</td>\n",
       "      <td>Media and Advertising</td>\n",
       "      <td>Unemployed</td>\n",
       "      <td>No</td>\n",
       "      <td>No</td>\n",
       "      <td>No</td>\n",
       "      <td>No</td>\n",
       "      <td>No</td>\n",
       "      <td>No</td>\n",
       "      <td>13.0</td>\n",
       "      <td>17.0</td>\n",
       "      <td>No</td>\n",
       "    </tr>\n",
       "    <tr>\n",
       "      <th>660681</th>\n",
       "      <td>Landing Page Submission</td>\n",
       "      <td>Google</td>\n",
       "      <td>No</td>\n",
       "      <td>No</td>\n",
       "      <td>1</td>\n",
       "      <td>2.0</td>\n",
       "      <td>1428</td>\n",
       "      <td>1.0</td>\n",
       "      <td>Converted to Lead</td>\n",
       "      <td>Select</td>\n",
       "      <td>Unemployed</td>\n",
       "      <td>No</td>\n",
       "      <td>No</td>\n",
       "      <td>No</td>\n",
       "      <td>No</td>\n",
       "      <td>No</td>\n",
       "      <td>No</td>\n",
       "      <td>15.0</td>\n",
       "      <td>18.0</td>\n",
       "      <td>No</td>\n",
       "    </tr>\n",
       "    <tr>\n",
       "      <th>...</th>\n",
       "      <td>...</td>\n",
       "      <td>...</td>\n",
       "      <td>...</td>\n",
       "      <td>...</td>\n",
       "      <td>...</td>\n",
       "      <td>...</td>\n",
       "      <td>...</td>\n",
       "      <td>...</td>\n",
       "      <td>...</td>\n",
       "      <td>...</td>\n",
       "      <td>...</td>\n",
       "      <td>...</td>\n",
       "      <td>...</td>\n",
       "      <td>...</td>\n",
       "      <td>...</td>\n",
       "      <td>...</td>\n",
       "      <td>...</td>\n",
       "      <td>...</td>\n",
       "      <td>...</td>\n",
       "      <td>...</td>\n",
       "    </tr>\n",
       "    <tr>\n",
       "      <th>579622</th>\n",
       "      <td>API</td>\n",
       "      <td>Direct Traffic</td>\n",
       "      <td>No</td>\n",
       "      <td>No</td>\n",
       "      <td>1</td>\n",
       "      <td>13.0</td>\n",
       "      <td>1409</td>\n",
       "      <td>2.6</td>\n",
       "      <td>SMS Sent</td>\n",
       "      <td>Select</td>\n",
       "      <td>Unemployed</td>\n",
       "      <td>No</td>\n",
       "      <td>No</td>\n",
       "      <td>No</td>\n",
       "      <td>No</td>\n",
       "      <td>No</td>\n",
       "      <td>No</td>\n",
       "      <td>NaN</td>\n",
       "      <td>NaN</td>\n",
       "      <td>No</td>\n",
       "    </tr>\n",
       "    <tr>\n",
       "      <th>579546</th>\n",
       "      <td>Landing Page Submission</td>\n",
       "      <td>Direct Traffic</td>\n",
       "      <td>No</td>\n",
       "      <td>No</td>\n",
       "      <td>0</td>\n",
       "      <td>2.0</td>\n",
       "      <td>238</td>\n",
       "      <td>2.0</td>\n",
       "      <td>SMS Sent</td>\n",
       "      <td>Media and Advertising</td>\n",
       "      <td>Unemployed</td>\n",
       "      <td>No</td>\n",
       "      <td>No</td>\n",
       "      <td>No</td>\n",
       "      <td>No</td>\n",
       "      <td>No</td>\n",
       "      <td>No</td>\n",
       "      <td>14.0</td>\n",
       "      <td>19.0</td>\n",
       "      <td>Yes</td>\n",
       "    </tr>\n",
       "    <tr>\n",
       "      <th>579545</th>\n",
       "      <td>Landing Page Submission</td>\n",
       "      <td>Direct Traffic</td>\n",
       "      <td>Yes</td>\n",
       "      <td>No</td>\n",
       "      <td>0</td>\n",
       "      <td>2.0</td>\n",
       "      <td>199</td>\n",
       "      <td>2.0</td>\n",
       "      <td>SMS Sent</td>\n",
       "      <td>Business Administration</td>\n",
       "      <td>Unemployed</td>\n",
       "      <td>No</td>\n",
       "      <td>No</td>\n",
       "      <td>No</td>\n",
       "      <td>No</td>\n",
       "      <td>No</td>\n",
       "      <td>No</td>\n",
       "      <td>13.0</td>\n",
       "      <td>20.0</td>\n",
       "      <td>Yes</td>\n",
       "    </tr>\n",
       "    <tr>\n",
       "      <th>579538</th>\n",
       "      <td>Landing Page Submission</td>\n",
       "      <td>Google</td>\n",
       "      <td>No</td>\n",
       "      <td>No</td>\n",
       "      <td>1</td>\n",
       "      <td>3.0</td>\n",
       "      <td>499</td>\n",
       "      <td>3.0</td>\n",
       "      <td>SMS Sent</td>\n",
       "      <td>Human Resource Management</td>\n",
       "      <td>NaN</td>\n",
       "      <td>No</td>\n",
       "      <td>No</td>\n",
       "      <td>No</td>\n",
       "      <td>No</td>\n",
       "      <td>No</td>\n",
       "      <td>No</td>\n",
       "      <td>15.0</td>\n",
       "      <td>16.0</td>\n",
       "      <td>No</td>\n",
       "    </tr>\n",
       "    <tr>\n",
       "      <th>579533</th>\n",
       "      <td>Landing Page Submission</td>\n",
       "      <td>Direct Traffic</td>\n",
       "      <td>No</td>\n",
       "      <td>No</td>\n",
       "      <td>1</td>\n",
       "      <td>6.0</td>\n",
       "      <td>1279</td>\n",
       "      <td>3.0</td>\n",
       "      <td>SMS Sent</td>\n",
       "      <td>Supply Chain Management</td>\n",
       "      <td>Unemployed</td>\n",
       "      <td>No</td>\n",
       "      <td>No</td>\n",
       "      <td>No</td>\n",
       "      <td>No</td>\n",
       "      <td>No</td>\n",
       "      <td>No</td>\n",
       "      <td>15.0</td>\n",
       "      <td>18.0</td>\n",
       "      <td>Yes</td>\n",
       "    </tr>\n",
       "  </tbody>\n",
       "</table>\n",
       "<p>6365 rows × 20 columns</p>\n",
       "</div>"
      ],
      "text/plain": [
       "                         origen          fuente no_enviar_email no_llamar  \\\n",
       "id                                                                          \n",
       "660737                      API            Chat              No        No   \n",
       "660728                      API  Organic Search              No        No   \n",
       "660727  Landing Page Submission  Direct Traffic              No        No   \n",
       "660719  Landing Page Submission  Direct Traffic              No        No   \n",
       "660681  Landing Page Submission          Google              No        No   \n",
       "...                         ...             ...             ...       ...   \n",
       "579622                      API  Direct Traffic              No        No   \n",
       "579546  Landing Page Submission  Direct Traffic              No        No   \n",
       "579545  Landing Page Submission  Direct Traffic             Yes        No   \n",
       "579538  Landing Page Submission          Google              No        No   \n",
       "579533  Landing Page Submission  Direct Traffic              No        No   \n",
       "\n",
       "        compra  visitas_total  tiempo_en_site_total  paginas_vistas_visita  \\\n",
       "id                                                                           \n",
       "660737       0            0.0                     0                    0.0   \n",
       "660728       0            5.0                   674                    2.5   \n",
       "660727       1            2.0                  1532                    2.0   \n",
       "660719       0            1.0                   305                    1.0   \n",
       "660681       1            2.0                  1428                    1.0   \n",
       "...        ...            ...                   ...                    ...   \n",
       "579622       1           13.0                  1409                    2.6   \n",
       "579546       0            2.0                   238                    2.0   \n",
       "579545       0            2.0                   199                    2.0   \n",
       "579538       1            3.0                   499                    3.0   \n",
       "579533       1            6.0                  1279                    3.0   \n",
       "\n",
       "                  ult_actividad                     ambito   ocupacion  \\\n",
       "id                                                                       \n",
       "660737  Page Visited on Website                     Select  Unemployed   \n",
       "660728             Email Opened                     Select  Unemployed   \n",
       "660727             Email Opened    Business Administration     Student   \n",
       "660719              Unreachable      Media and Advertising  Unemployed   \n",
       "660681        Converted to Lead                     Select  Unemployed   \n",
       "...                         ...                        ...         ...   \n",
       "579622                 SMS Sent                     Select  Unemployed   \n",
       "579546                 SMS Sent      Media and Advertising  Unemployed   \n",
       "579545                 SMS Sent    Business Administration  Unemployed   \n",
       "579538                 SMS Sent  Human Resource Management         NaN   \n",
       "579533                 SMS Sent    Supply Chain Management  Unemployed   \n",
       "\n",
       "       conociste_google conociste_revista conociste_periodico  \\\n",
       "id                                                              \n",
       "660737               No                No                  No   \n",
       "660728               No                No                  No   \n",
       "660727               No                No                  No   \n",
       "660719               No                No                  No   \n",
       "660681               No                No                  No   \n",
       "...                 ...               ...                 ...   \n",
       "579622               No                No                  No   \n",
       "579546               No                No                  No   \n",
       "579545               No                No                  No   \n",
       "579538               No                No                  No   \n",
       "579533               No                No                  No   \n",
       "\n",
       "       conociste_youtube conociste_facebook conociste_referencias  \\\n",
       "id                                                                  \n",
       "660737                No                 No                    No   \n",
       "660728                No                 No                    No   \n",
       "660727                No                 No                    No   \n",
       "660719                No                 No                    No   \n",
       "660681                No                 No                    No   \n",
       "...                  ...                ...                   ...   \n",
       "579622                No                 No                    No   \n",
       "579546                No                 No                    No   \n",
       "579545                No                 No                    No   \n",
       "579538                No                 No                    No   \n",
       "579533                No                 No                    No   \n",
       "\n",
       "        score_actividad  score_perfil descarga_lm  \n",
       "id                                                 \n",
       "660737             15.0          15.0          No  \n",
       "660728             15.0          15.0          No  \n",
       "660727             14.0          20.0         Yes  \n",
       "660719             13.0          17.0          No  \n",
       "660681             15.0          18.0          No  \n",
       "...                 ...           ...         ...  \n",
       "579622              NaN           NaN          No  \n",
       "579546             14.0          19.0         Yes  \n",
       "579545             13.0          20.0         Yes  \n",
       "579538             15.0          16.0          No  \n",
       "579533             15.0          18.0         Yes  \n",
       "\n",
       "[6365 rows x 20 columns]"
      ]
     },
     "execution_count": 69,
     "metadata": {},
     "output_type": "execute_result"
    }
   ],
   "source": [
    "ruta_completa = ruta_proyecto + '/02_Datos/03_Trabajo/' + nombre_fichero_datos\n",
    "\n",
    "df = pd.read_csv(ruta_completa,index_col='id', sep=',')\n",
    "df"
   ]
  },
  {
   "cell_type": "markdown",
   "id": "9790d322",
   "metadata": {},
   "source": [
    "## CORRECCIÓN DE NOMBRES DE VARIABLES"
   ]
  },
  {
   "cell_type": "code",
   "execution_count": 70,
   "id": "41531294",
   "metadata": {},
   "outputs": [
    {
     "name": "stdout",
     "output_type": "stream",
     "text": [
      "<class 'pandas.core.frame.DataFrame'>\n",
      "Index: 6365 entries, 660737 to 579533\n",
      "Data columns (total 20 columns):\n",
      " #   Column                 Non-Null Count  Dtype  \n",
      "---  ------                 --------------  -----  \n",
      " 0   origen                 6365 non-null   object \n",
      " 1   fuente                 6341 non-null   object \n",
      " 2   no_enviar_email        6365 non-null   object \n",
      " 3   no_llamar              6365 non-null   object \n",
      " 4   compra                 6365 non-null   int64  \n",
      " 5   visitas_total          6278 non-null   float64\n",
      " 6   tiempo_en_site_total   6365 non-null   int64  \n",
      " 7   paginas_vistas_visita  6278 non-null   float64\n",
      " 8   ult_actividad          6301 non-null   object \n",
      " 9   ambito                 5364 non-null   object \n",
      " 10  ocupacion              4495 non-null   object \n",
      " 11  conociste_google       6365 non-null   object \n",
      " 12  conociste_revista      6365 non-null   object \n",
      " 13  conociste_periodico    6365 non-null   object \n",
      " 14  conociste_youtube      6365 non-null   object \n",
      " 15  conociste_facebook     6365 non-null   object \n",
      " 16  conociste_referencias  6365 non-null   object \n",
      " 17  score_actividad        3445 non-null   float64\n",
      " 18  score_perfil           3445 non-null   float64\n",
      " 19  descarga_lm            6365 non-null   object \n",
      "dtypes: float64(4), int64(2), object(14)\n",
      "memory usage: 1.0+ MB\n"
     ]
    }
   ],
   "source": [
    "df.info()"
   ]
  },
  {
   "cell_type": "markdown",
   "id": "619ba703",
   "metadata": {},
   "source": [
    "Los nombres estan bien, no hay problema con mayusculas espacios ni acentos ni otras cosas raras que haya detectado\n"
   ]
  },
  {
   "cell_type": "code",
   "execution_count": 71,
   "id": "0c591580",
   "metadata": {},
   "outputs": [
    {
     "data": {
      "text/html": [
       "<div>\n",
       "<style scoped>\n",
       "    .dataframe tbody tr th:only-of-type {\n",
       "        vertical-align: middle;\n",
       "    }\n",
       "\n",
       "    .dataframe tbody tr th {\n",
       "        vertical-align: top;\n",
       "    }\n",
       "\n",
       "    .dataframe thead th {\n",
       "        text-align: right;\n",
       "    }\n",
       "</style>\n",
       "<table border=\"1\" class=\"dataframe\">\n",
       "  <thead>\n",
       "    <tr style=\"text-align: right;\">\n",
       "      <th></th>\n",
       "      <th>origen</th>\n",
       "      <th>fuente</th>\n",
       "      <th>no_enviar_email</th>\n",
       "      <th>no_llamar</th>\n",
       "      <th>compra</th>\n",
       "      <th>visitas_total</th>\n",
       "      <th>tiempo_en_site_total</th>\n",
       "      <th>paginas_vistas_visita</th>\n",
       "      <th>ult_actividad</th>\n",
       "      <th>ambito</th>\n",
       "      <th>ocupacion</th>\n",
       "      <th>conociste_google</th>\n",
       "      <th>conociste_revista</th>\n",
       "      <th>conociste_periodico</th>\n",
       "      <th>conociste_youtube</th>\n",
       "      <th>conociste_facebook</th>\n",
       "      <th>conociste_referencias</th>\n",
       "      <th>score_actividad</th>\n",
       "      <th>score_perfil</th>\n",
       "      <th>descarga_lm</th>\n",
       "    </tr>\n",
       "    <tr>\n",
       "      <th>id</th>\n",
       "      <th></th>\n",
       "      <th></th>\n",
       "      <th></th>\n",
       "      <th></th>\n",
       "      <th></th>\n",
       "      <th></th>\n",
       "      <th></th>\n",
       "      <th></th>\n",
       "      <th></th>\n",
       "      <th></th>\n",
       "      <th></th>\n",
       "      <th></th>\n",
       "      <th></th>\n",
       "      <th></th>\n",
       "      <th></th>\n",
       "      <th></th>\n",
       "      <th></th>\n",
       "      <th></th>\n",
       "      <th></th>\n",
       "      <th></th>\n",
       "    </tr>\n",
       "  </thead>\n",
       "  <tbody>\n",
       "    <tr>\n",
       "      <th>660737</th>\n",
       "      <td>API</td>\n",
       "      <td>Chat</td>\n",
       "      <td>No</td>\n",
       "      <td>No</td>\n",
       "      <td>0</td>\n",
       "      <td>0.0</td>\n",
       "      <td>0</td>\n",
       "      <td>0.0</td>\n",
       "      <td>Page Visited on Website</td>\n",
       "      <td>Select</td>\n",
       "      <td>Unemployed</td>\n",
       "      <td>No</td>\n",
       "      <td>No</td>\n",
       "      <td>No</td>\n",
       "      <td>No</td>\n",
       "      <td>No</td>\n",
       "      <td>No</td>\n",
       "      <td>15.0</td>\n",
       "      <td>15.0</td>\n",
       "      <td>No</td>\n",
       "    </tr>\n",
       "    <tr>\n",
       "      <th>660728</th>\n",
       "      <td>API</td>\n",
       "      <td>Organic Search</td>\n",
       "      <td>No</td>\n",
       "      <td>No</td>\n",
       "      <td>0</td>\n",
       "      <td>5.0</td>\n",
       "      <td>674</td>\n",
       "      <td>2.5</td>\n",
       "      <td>Email Opened</td>\n",
       "      <td>Select</td>\n",
       "      <td>Unemployed</td>\n",
       "      <td>No</td>\n",
       "      <td>No</td>\n",
       "      <td>No</td>\n",
       "      <td>No</td>\n",
       "      <td>No</td>\n",
       "      <td>No</td>\n",
       "      <td>15.0</td>\n",
       "      <td>15.0</td>\n",
       "      <td>No</td>\n",
       "    </tr>\n",
       "    <tr>\n",
       "      <th>660727</th>\n",
       "      <td>Landing Page Submission</td>\n",
       "      <td>Direct Traffic</td>\n",
       "      <td>No</td>\n",
       "      <td>No</td>\n",
       "      <td>1</td>\n",
       "      <td>2.0</td>\n",
       "      <td>1532</td>\n",
       "      <td>2.0</td>\n",
       "      <td>Email Opened</td>\n",
       "      <td>Business Administration</td>\n",
       "      <td>Student</td>\n",
       "      <td>No</td>\n",
       "      <td>No</td>\n",
       "      <td>No</td>\n",
       "      <td>No</td>\n",
       "      <td>No</td>\n",
       "      <td>No</td>\n",
       "      <td>14.0</td>\n",
       "      <td>20.0</td>\n",
       "      <td>Yes</td>\n",
       "    </tr>\n",
       "    <tr>\n",
       "      <th>660719</th>\n",
       "      <td>Landing Page Submission</td>\n",
       "      <td>Direct Traffic</td>\n",
       "      <td>No</td>\n",
       "      <td>No</td>\n",
       "      <td>0</td>\n",
       "      <td>1.0</td>\n",
       "      <td>305</td>\n",
       "      <td>1.0</td>\n",
       "      <td>Unreachable</td>\n",
       "      <td>Media and Advertising</td>\n",
       "      <td>Unemployed</td>\n",
       "      <td>No</td>\n",
       "      <td>No</td>\n",
       "      <td>No</td>\n",
       "      <td>No</td>\n",
       "      <td>No</td>\n",
       "      <td>No</td>\n",
       "      <td>13.0</td>\n",
       "      <td>17.0</td>\n",
       "      <td>No</td>\n",
       "    </tr>\n",
       "    <tr>\n",
       "      <th>660681</th>\n",
       "      <td>Landing Page Submission</td>\n",
       "      <td>Google</td>\n",
       "      <td>No</td>\n",
       "      <td>No</td>\n",
       "      <td>1</td>\n",
       "      <td>2.0</td>\n",
       "      <td>1428</td>\n",
       "      <td>1.0</td>\n",
       "      <td>Converted to Lead</td>\n",
       "      <td>Select</td>\n",
       "      <td>Unemployed</td>\n",
       "      <td>No</td>\n",
       "      <td>No</td>\n",
       "      <td>No</td>\n",
       "      <td>No</td>\n",
       "      <td>No</td>\n",
       "      <td>No</td>\n",
       "      <td>15.0</td>\n",
       "      <td>18.0</td>\n",
       "      <td>No</td>\n",
       "    </tr>\n",
       "  </tbody>\n",
       "</table>\n",
       "</div>"
      ],
      "text/plain": [
       "                         origen          fuente no_enviar_email no_llamar  \\\n",
       "id                                                                          \n",
       "660737                      API            Chat              No        No   \n",
       "660728                      API  Organic Search              No        No   \n",
       "660727  Landing Page Submission  Direct Traffic              No        No   \n",
       "660719  Landing Page Submission  Direct Traffic              No        No   \n",
       "660681  Landing Page Submission          Google              No        No   \n",
       "\n",
       "        compra  visitas_total  tiempo_en_site_total  paginas_vistas_visita  \\\n",
       "id                                                                           \n",
       "660737       0            0.0                     0                    0.0   \n",
       "660728       0            5.0                   674                    2.5   \n",
       "660727       1            2.0                  1532                    2.0   \n",
       "660719       0            1.0                   305                    1.0   \n",
       "660681       1            2.0                  1428                    1.0   \n",
       "\n",
       "                  ult_actividad                   ambito   ocupacion  \\\n",
       "id                                                                     \n",
       "660737  Page Visited on Website                   Select  Unemployed   \n",
       "660728             Email Opened                   Select  Unemployed   \n",
       "660727             Email Opened  Business Administration     Student   \n",
       "660719              Unreachable    Media and Advertising  Unemployed   \n",
       "660681        Converted to Lead                   Select  Unemployed   \n",
       "\n",
       "       conociste_google conociste_revista conociste_periodico  \\\n",
       "id                                                              \n",
       "660737               No                No                  No   \n",
       "660728               No                No                  No   \n",
       "660727               No                No                  No   \n",
       "660719               No                No                  No   \n",
       "660681               No                No                  No   \n",
       "\n",
       "       conociste_youtube conociste_facebook conociste_referencias  \\\n",
       "id                                                                  \n",
       "660737                No                 No                    No   \n",
       "660728                No                 No                    No   \n",
       "660727                No                 No                    No   \n",
       "660719                No                 No                    No   \n",
       "660681                No                 No                    No   \n",
       "\n",
       "        score_actividad  score_perfil descarga_lm  \n",
       "id                                                 \n",
       "660737             15.0          15.0          No  \n",
       "660728             15.0          15.0          No  \n",
       "660727             14.0          20.0         Yes  \n",
       "660719             13.0          17.0          No  \n",
       "660681             15.0          18.0          No  "
      ]
     },
     "execution_count": 71,
     "metadata": {},
     "output_type": "execute_result"
    }
   ],
   "source": [
    "df.head(5)"
   ]
  },
  {
   "cell_type": "markdown",
   "id": "158ee1d7",
   "metadata": {},
   "source": [
    "## TIPOS DE DATOS"
   ]
  },
  {
   "cell_type": "markdown",
   "id": "88162727",
   "metadata": {},
   "source": [
    "### Identificación"
   ]
  },
  {
   "cell_type": "code",
   "execution_count": 72,
   "id": "197a99c2",
   "metadata": {},
   "outputs": [
    {
     "data": {
      "text/plain": [
       "origen                    object\n",
       "fuente                    object\n",
       "no_enviar_email           object\n",
       "no_llamar                 object\n",
       "compra                     int64\n",
       "visitas_total            float64\n",
       "tiempo_en_site_total       int64\n",
       "paginas_vistas_visita    float64\n",
       "ult_actividad             object\n",
       "ambito                    object\n",
       "ocupacion                 object\n",
       "conociste_google          object\n",
       "conociste_revista         object\n",
       "conociste_periodico       object\n",
       "conociste_youtube         object\n",
       "conociste_facebook        object\n",
       "conociste_referencias     object\n",
       "score_actividad          float64\n",
       "score_perfil             float64\n",
       "descarga_lm               object\n",
       "dtype: object"
      ]
     },
     "execution_count": 72,
     "metadata": {},
     "output_type": "execute_result"
    }
   ],
   "source": [
    "df.dtypes"
   ]
  },
  {
   "cell_type": "markdown",
   "id": "b773579e-a896-4a25-8844-66637fc79880",
   "metadata": {},
   "source": [
    "Parece que todo esta bien salvo visitas_total\n",
    "\n",
    "Cambiar esta por entero"
   ]
  },
  {
   "cell_type": "markdown",
   "id": "54f495a6",
   "metadata": {},
   "source": [
    "### Corrección"
   ]
  },
  {
   "cell_type": "code",
   "execution_count": 73,
   "id": "828b9893",
   "metadata": {
    "scrolled": true
   },
   "outputs": [
    {
     "data": {
      "text/plain": [
       "origen                    object\n",
       "fuente                    object\n",
       "no_enviar_email           object\n",
       "no_llamar                 object\n",
       "compra                     int64\n",
       "visitas_total              Int64\n",
       "tiempo_en_site_total       int64\n",
       "paginas_vistas_visita    float64\n",
       "ult_actividad             object\n",
       "ambito                    object\n",
       "ocupacion                 object\n",
       "conociste_google          object\n",
       "conociste_revista         object\n",
       "conociste_periodico       object\n",
       "conociste_youtube         object\n",
       "conociste_facebook        object\n",
       "conociste_referencias     object\n",
       "score_actividad          float64\n",
       "score_perfil             float64\n",
       "descarga_lm               object\n",
       "dtype: object"
      ]
     },
     "execution_count": 73,
     "metadata": {},
     "output_type": "execute_result"
    }
   ],
   "source": [
    "df = df.astype({'visitas_total':'Int64'})\n",
    "\n",
    "df.dtypes"
   ]
  },
  {
   "cell_type": "markdown",
   "id": "cc8d4a22",
   "metadata": {},
   "source": [
    "## VALORES ÚNICOS"
   ]
  },
  {
   "cell_type": "markdown",
   "id": "f21f0e36",
   "metadata": {},
   "source": [
    "### Identificación"
   ]
  },
  {
   "cell_type": "code",
   "execution_count": 74,
   "id": "6e53e444",
   "metadata": {},
   "outputs": [
    {
     "data": {
      "text/plain": [
       "conociste_revista           1\n",
       "descarga_lm                 2\n",
       "conociste_referencias       2\n",
       "no_enviar_email             2\n",
       "no_llamar                   2\n",
       "compra                      2\n",
       "conociste_facebook          2\n",
       "conociste_youtube           2\n",
       "conociste_periodico         2\n",
       "conociste_google            2\n",
       "origen                      4\n",
       "ocupacion                   6\n",
       "score_perfil               10\n",
       "score_actividad            11\n",
       "fuente                     15\n",
       "ult_actividad              17\n",
       "ambito                     19\n",
       "visitas_total              39\n",
       "paginas_vistas_visita     102\n",
       "tiempo_en_site_total     1593\n",
       "dtype: int64"
      ]
     },
     "execution_count": 74,
     "metadata": {},
     "output_type": "execute_result"
    }
   ],
   "source": [
    "df.nunique().sort_values()"
   ]
  },
  {
   "cell_type": "markdown",
   "id": "a6ebdcc9-ea04-42a9-9ed6-9c30da8d892a",
   "metadata": {},
   "source": [
    "Parece que solo conociste_revista tiene un valor, la elimino\n",
    "\n",
    "Tampoco hay ninguna variable que tenga demasiados valores y que me tenga que preocupar a nivel de cardinalidad"
   ]
  },
  {
   "cell_type": "markdown",
   "id": "b1d1a668",
   "metadata": {},
   "source": [
    "### Corrección"
   ]
  },
  {
   "cell_type": "code",
   "execution_count": 75,
   "id": "62f7d14e",
   "metadata": {},
   "outputs": [],
   "source": [
    "df.drop(columns = ['conociste_revista'], inplace = True)"
   ]
  },
  {
   "cell_type": "markdown",
   "id": "e25cfc89",
   "metadata": {},
   "source": [
    "## DUPLICADOS"
   ]
  },
  {
   "cell_type": "markdown",
   "id": "8a079ed3",
   "metadata": {},
   "source": [
    "### Identificación"
   ]
  },
  {
   "cell_type": "code",
   "execution_count": 76,
   "id": "f5b23bfc",
   "metadata": {
    "scrolled": true
   },
   "outputs": [
    {
     "data": {
      "text/plain": [
       "1047"
      ]
     },
     "execution_count": 76,
     "metadata": {},
     "output_type": "execute_result"
    }
   ],
   "source": [
    "df.duplicated().sum()"
   ]
  },
  {
   "cell_type": "markdown",
   "id": "f1d21200",
   "metadata": {},
   "source": [
    "Existen bastantes duplicados"
   ]
  },
  {
   "cell_type": "markdown",
   "id": "d440242b",
   "metadata": {},
   "source": [
    "### Corrección"
   ]
  },
  {
   "cell_type": "code",
   "execution_count": 77,
   "id": "a693f362",
   "metadata": {},
   "outputs": [],
   "source": [
    "df.drop_duplicates(inplace = True)"
   ]
  },
  {
   "cell_type": "code",
   "execution_count": 78,
   "id": "2e481b48",
   "metadata": {},
   "outputs": [
    {
     "data": {
      "text/plain": [
       "0"
      ]
     },
     "execution_count": 78,
     "metadata": {},
     "output_type": "execute_result"
    }
   ],
   "source": [
    "df.duplicated().sum()"
   ]
  },
  {
   "cell_type": "markdown",
   "id": "632ec2cd",
   "metadata": {},
   "source": [
    "## SEPARAR NUMÉRICAS Y CATEGÓRICAS"
   ]
  },
  {
   "cell_type": "markdown",
   "id": "573a61ac",
   "metadata": {},
   "source": [
    "### Categóricas"
   ]
  },
  {
   "cell_type": "code",
   "execution_count": 79,
   "id": "47a7eece",
   "metadata": {},
   "outputs": [],
   "source": [
    "cat = df.select_dtypes(exclude = 'number').copy()"
   ]
  },
  {
   "cell_type": "markdown",
   "id": "41756893",
   "metadata": {},
   "source": [
    "### Numéricas"
   ]
  },
  {
   "cell_type": "code",
   "execution_count": 80,
   "id": "59140e9a",
   "metadata": {},
   "outputs": [],
   "source": [
    "num = df.select_dtypes(include='number').copy()"
   ]
  },
  {
   "cell_type": "code",
   "execution_count": 81,
   "id": "a0522a73",
   "metadata": {},
   "outputs": [
    {
     "data": {
      "text/html": [
       "<div>\n",
       "<style scoped>\n",
       "    .dataframe tbody tr th:only-of-type {\n",
       "        vertical-align: middle;\n",
       "    }\n",
       "\n",
       "    .dataframe tbody tr th {\n",
       "        vertical-align: top;\n",
       "    }\n",
       "\n",
       "    .dataframe thead th {\n",
       "        text-align: right;\n",
       "    }\n",
       "</style>\n",
       "<table border=\"1\" class=\"dataframe\">\n",
       "  <thead>\n",
       "    <tr style=\"text-align: right;\">\n",
       "      <th></th>\n",
       "      <th>origen</th>\n",
       "      <th>fuente</th>\n",
       "      <th>no_enviar_email</th>\n",
       "      <th>no_llamar</th>\n",
       "      <th>ult_actividad</th>\n",
       "      <th>ambito</th>\n",
       "      <th>ocupacion</th>\n",
       "      <th>conociste_google</th>\n",
       "      <th>conociste_periodico</th>\n",
       "      <th>conociste_youtube</th>\n",
       "      <th>conociste_facebook</th>\n",
       "      <th>conociste_referencias</th>\n",
       "      <th>descarga_lm</th>\n",
       "    </tr>\n",
       "    <tr>\n",
       "      <th>id</th>\n",
       "      <th></th>\n",
       "      <th></th>\n",
       "      <th></th>\n",
       "      <th></th>\n",
       "      <th></th>\n",
       "      <th></th>\n",
       "      <th></th>\n",
       "      <th></th>\n",
       "      <th></th>\n",
       "      <th></th>\n",
       "      <th></th>\n",
       "      <th></th>\n",
       "      <th></th>\n",
       "    </tr>\n",
       "  </thead>\n",
       "  <tbody>\n",
       "    <tr>\n",
       "      <th>660737</th>\n",
       "      <td>API</td>\n",
       "      <td>Chat</td>\n",
       "      <td>No</td>\n",
       "      <td>No</td>\n",
       "      <td>Page Visited on Website</td>\n",
       "      <td>Select</td>\n",
       "      <td>Unemployed</td>\n",
       "      <td>No</td>\n",
       "      <td>No</td>\n",
       "      <td>No</td>\n",
       "      <td>No</td>\n",
       "      <td>No</td>\n",
       "      <td>No</td>\n",
       "    </tr>\n",
       "    <tr>\n",
       "      <th>660728</th>\n",
       "      <td>API</td>\n",
       "      <td>Organic Search</td>\n",
       "      <td>No</td>\n",
       "      <td>No</td>\n",
       "      <td>Email Opened</td>\n",
       "      <td>Select</td>\n",
       "      <td>Unemployed</td>\n",
       "      <td>No</td>\n",
       "      <td>No</td>\n",
       "      <td>No</td>\n",
       "      <td>No</td>\n",
       "      <td>No</td>\n",
       "      <td>No</td>\n",
       "    </tr>\n",
       "    <tr>\n",
       "      <th>660727</th>\n",
       "      <td>Landing Page Submission</td>\n",
       "      <td>Direct Traffic</td>\n",
       "      <td>No</td>\n",
       "      <td>No</td>\n",
       "      <td>Email Opened</td>\n",
       "      <td>Business Administration</td>\n",
       "      <td>Student</td>\n",
       "      <td>No</td>\n",
       "      <td>No</td>\n",
       "      <td>No</td>\n",
       "      <td>No</td>\n",
       "      <td>No</td>\n",
       "      <td>Yes</td>\n",
       "    </tr>\n",
       "    <tr>\n",
       "      <th>660719</th>\n",
       "      <td>Landing Page Submission</td>\n",
       "      <td>Direct Traffic</td>\n",
       "      <td>No</td>\n",
       "      <td>No</td>\n",
       "      <td>Unreachable</td>\n",
       "      <td>Media and Advertising</td>\n",
       "      <td>Unemployed</td>\n",
       "      <td>No</td>\n",
       "      <td>No</td>\n",
       "      <td>No</td>\n",
       "      <td>No</td>\n",
       "      <td>No</td>\n",
       "      <td>No</td>\n",
       "    </tr>\n",
       "    <tr>\n",
       "      <th>660681</th>\n",
       "      <td>Landing Page Submission</td>\n",
       "      <td>Google</td>\n",
       "      <td>No</td>\n",
       "      <td>No</td>\n",
       "      <td>Converted to Lead</td>\n",
       "      <td>Select</td>\n",
       "      <td>Unemployed</td>\n",
       "      <td>No</td>\n",
       "      <td>No</td>\n",
       "      <td>No</td>\n",
       "      <td>No</td>\n",
       "      <td>No</td>\n",
       "      <td>No</td>\n",
       "    </tr>\n",
       "    <tr>\n",
       "      <th>...</th>\n",
       "      <td>...</td>\n",
       "      <td>...</td>\n",
       "      <td>...</td>\n",
       "      <td>...</td>\n",
       "      <td>...</td>\n",
       "      <td>...</td>\n",
       "      <td>...</td>\n",
       "      <td>...</td>\n",
       "      <td>...</td>\n",
       "      <td>...</td>\n",
       "      <td>...</td>\n",
       "      <td>...</td>\n",
       "      <td>...</td>\n",
       "    </tr>\n",
       "    <tr>\n",
       "      <th>579622</th>\n",
       "      <td>API</td>\n",
       "      <td>Direct Traffic</td>\n",
       "      <td>No</td>\n",
       "      <td>No</td>\n",
       "      <td>SMS Sent</td>\n",
       "      <td>Select</td>\n",
       "      <td>Unemployed</td>\n",
       "      <td>No</td>\n",
       "      <td>No</td>\n",
       "      <td>No</td>\n",
       "      <td>No</td>\n",
       "      <td>No</td>\n",
       "      <td>No</td>\n",
       "    </tr>\n",
       "    <tr>\n",
       "      <th>579546</th>\n",
       "      <td>Landing Page Submission</td>\n",
       "      <td>Direct Traffic</td>\n",
       "      <td>No</td>\n",
       "      <td>No</td>\n",
       "      <td>SMS Sent</td>\n",
       "      <td>Media and Advertising</td>\n",
       "      <td>Unemployed</td>\n",
       "      <td>No</td>\n",
       "      <td>No</td>\n",
       "      <td>No</td>\n",
       "      <td>No</td>\n",
       "      <td>No</td>\n",
       "      <td>Yes</td>\n",
       "    </tr>\n",
       "    <tr>\n",
       "      <th>579545</th>\n",
       "      <td>Landing Page Submission</td>\n",
       "      <td>Direct Traffic</td>\n",
       "      <td>Yes</td>\n",
       "      <td>No</td>\n",
       "      <td>SMS Sent</td>\n",
       "      <td>Business Administration</td>\n",
       "      <td>Unemployed</td>\n",
       "      <td>No</td>\n",
       "      <td>No</td>\n",
       "      <td>No</td>\n",
       "      <td>No</td>\n",
       "      <td>No</td>\n",
       "      <td>Yes</td>\n",
       "    </tr>\n",
       "    <tr>\n",
       "      <th>579538</th>\n",
       "      <td>Landing Page Submission</td>\n",
       "      <td>Google</td>\n",
       "      <td>No</td>\n",
       "      <td>No</td>\n",
       "      <td>SMS Sent</td>\n",
       "      <td>Human Resource Management</td>\n",
       "      <td>NaN</td>\n",
       "      <td>No</td>\n",
       "      <td>No</td>\n",
       "      <td>No</td>\n",
       "      <td>No</td>\n",
       "      <td>No</td>\n",
       "      <td>No</td>\n",
       "    </tr>\n",
       "    <tr>\n",
       "      <th>579533</th>\n",
       "      <td>Landing Page Submission</td>\n",
       "      <td>Direct Traffic</td>\n",
       "      <td>No</td>\n",
       "      <td>No</td>\n",
       "      <td>SMS Sent</td>\n",
       "      <td>Supply Chain Management</td>\n",
       "      <td>Unemployed</td>\n",
       "      <td>No</td>\n",
       "      <td>No</td>\n",
       "      <td>No</td>\n",
       "      <td>No</td>\n",
       "      <td>No</td>\n",
       "      <td>Yes</td>\n",
       "    </tr>\n",
       "  </tbody>\n",
       "</table>\n",
       "<p>5318 rows × 13 columns</p>\n",
       "</div>"
      ],
      "text/plain": [
       "                         origen          fuente no_enviar_email no_llamar  \\\n",
       "id                                                                          \n",
       "660737                      API            Chat              No        No   \n",
       "660728                      API  Organic Search              No        No   \n",
       "660727  Landing Page Submission  Direct Traffic              No        No   \n",
       "660719  Landing Page Submission  Direct Traffic              No        No   \n",
       "660681  Landing Page Submission          Google              No        No   \n",
       "...                         ...             ...             ...       ...   \n",
       "579622                      API  Direct Traffic              No        No   \n",
       "579546  Landing Page Submission  Direct Traffic              No        No   \n",
       "579545  Landing Page Submission  Direct Traffic             Yes        No   \n",
       "579538  Landing Page Submission          Google              No        No   \n",
       "579533  Landing Page Submission  Direct Traffic              No        No   \n",
       "\n",
       "                  ult_actividad                     ambito   ocupacion  \\\n",
       "id                                                                       \n",
       "660737  Page Visited on Website                     Select  Unemployed   \n",
       "660728             Email Opened                     Select  Unemployed   \n",
       "660727             Email Opened    Business Administration     Student   \n",
       "660719              Unreachable      Media and Advertising  Unemployed   \n",
       "660681        Converted to Lead                     Select  Unemployed   \n",
       "...                         ...                        ...         ...   \n",
       "579622                 SMS Sent                     Select  Unemployed   \n",
       "579546                 SMS Sent      Media and Advertising  Unemployed   \n",
       "579545                 SMS Sent    Business Administration  Unemployed   \n",
       "579538                 SMS Sent  Human Resource Management         NaN   \n",
       "579533                 SMS Sent    Supply Chain Management  Unemployed   \n",
       "\n",
       "       conociste_google conociste_periodico conociste_youtube  \\\n",
       "id                                                              \n",
       "660737               No                  No                No   \n",
       "660728               No                  No                No   \n",
       "660727               No                  No                No   \n",
       "660719               No                  No                No   \n",
       "660681               No                  No                No   \n",
       "...                 ...                 ...               ...   \n",
       "579622               No                  No                No   \n",
       "579546               No                  No                No   \n",
       "579545               No                  No                No   \n",
       "579538               No                  No                No   \n",
       "579533               No                  No                No   \n",
       "\n",
       "       conociste_facebook conociste_referencias descarga_lm  \n",
       "id                                                           \n",
       "660737                 No                    No          No  \n",
       "660728                 No                    No          No  \n",
       "660727                 No                    No         Yes  \n",
       "660719                 No                    No          No  \n",
       "660681                 No                    No          No  \n",
       "...                   ...                   ...         ...  \n",
       "579622                 No                    No          No  \n",
       "579546                 No                    No         Yes  \n",
       "579545                 No                    No         Yes  \n",
       "579538                 No                    No          No  \n",
       "579533                 No                    No         Yes  \n",
       "\n",
       "[5318 rows x 13 columns]"
      ]
     },
     "execution_count": 81,
     "metadata": {},
     "output_type": "execute_result"
    }
   ],
   "source": [
    "cat"
   ]
  },
  {
   "cell_type": "code",
   "execution_count": 82,
   "id": "574b6972",
   "metadata": {},
   "outputs": [
    {
     "data": {
      "text/html": [
       "<div>\n",
       "<style scoped>\n",
       "    .dataframe tbody tr th:only-of-type {\n",
       "        vertical-align: middle;\n",
       "    }\n",
       "\n",
       "    .dataframe tbody tr th {\n",
       "        vertical-align: top;\n",
       "    }\n",
       "\n",
       "    .dataframe thead th {\n",
       "        text-align: right;\n",
       "    }\n",
       "</style>\n",
       "<table border=\"1\" class=\"dataframe\">\n",
       "  <thead>\n",
       "    <tr style=\"text-align: right;\">\n",
       "      <th></th>\n",
       "      <th>compra</th>\n",
       "      <th>visitas_total</th>\n",
       "      <th>tiempo_en_site_total</th>\n",
       "      <th>paginas_vistas_visita</th>\n",
       "      <th>score_actividad</th>\n",
       "      <th>score_perfil</th>\n",
       "    </tr>\n",
       "    <tr>\n",
       "      <th>id</th>\n",
       "      <th></th>\n",
       "      <th></th>\n",
       "      <th></th>\n",
       "      <th></th>\n",
       "      <th></th>\n",
       "      <th></th>\n",
       "    </tr>\n",
       "  </thead>\n",
       "  <tbody>\n",
       "    <tr>\n",
       "      <th>660737</th>\n",
       "      <td>0</td>\n",
       "      <td>0</td>\n",
       "      <td>0</td>\n",
       "      <td>0.0</td>\n",
       "      <td>15.0</td>\n",
       "      <td>15.0</td>\n",
       "    </tr>\n",
       "    <tr>\n",
       "      <th>660728</th>\n",
       "      <td>0</td>\n",
       "      <td>5</td>\n",
       "      <td>674</td>\n",
       "      <td>2.5</td>\n",
       "      <td>15.0</td>\n",
       "      <td>15.0</td>\n",
       "    </tr>\n",
       "    <tr>\n",
       "      <th>660727</th>\n",
       "      <td>1</td>\n",
       "      <td>2</td>\n",
       "      <td>1532</td>\n",
       "      <td>2.0</td>\n",
       "      <td>14.0</td>\n",
       "      <td>20.0</td>\n",
       "    </tr>\n",
       "    <tr>\n",
       "      <th>660719</th>\n",
       "      <td>0</td>\n",
       "      <td>1</td>\n",
       "      <td>305</td>\n",
       "      <td>1.0</td>\n",
       "      <td>13.0</td>\n",
       "      <td>17.0</td>\n",
       "    </tr>\n",
       "    <tr>\n",
       "      <th>660681</th>\n",
       "      <td>1</td>\n",
       "      <td>2</td>\n",
       "      <td>1428</td>\n",
       "      <td>1.0</td>\n",
       "      <td>15.0</td>\n",
       "      <td>18.0</td>\n",
       "    </tr>\n",
       "    <tr>\n",
       "      <th>...</th>\n",
       "      <td>...</td>\n",
       "      <td>...</td>\n",
       "      <td>...</td>\n",
       "      <td>...</td>\n",
       "      <td>...</td>\n",
       "      <td>...</td>\n",
       "    </tr>\n",
       "    <tr>\n",
       "      <th>579622</th>\n",
       "      <td>1</td>\n",
       "      <td>13</td>\n",
       "      <td>1409</td>\n",
       "      <td>2.6</td>\n",
       "      <td>NaN</td>\n",
       "      <td>NaN</td>\n",
       "    </tr>\n",
       "    <tr>\n",
       "      <th>579546</th>\n",
       "      <td>0</td>\n",
       "      <td>2</td>\n",
       "      <td>238</td>\n",
       "      <td>2.0</td>\n",
       "      <td>14.0</td>\n",
       "      <td>19.0</td>\n",
       "    </tr>\n",
       "    <tr>\n",
       "      <th>579545</th>\n",
       "      <td>0</td>\n",
       "      <td>2</td>\n",
       "      <td>199</td>\n",
       "      <td>2.0</td>\n",
       "      <td>13.0</td>\n",
       "      <td>20.0</td>\n",
       "    </tr>\n",
       "    <tr>\n",
       "      <th>579538</th>\n",
       "      <td>1</td>\n",
       "      <td>3</td>\n",
       "      <td>499</td>\n",
       "      <td>3.0</td>\n",
       "      <td>15.0</td>\n",
       "      <td>16.0</td>\n",
       "    </tr>\n",
       "    <tr>\n",
       "      <th>579533</th>\n",
       "      <td>1</td>\n",
       "      <td>6</td>\n",
       "      <td>1279</td>\n",
       "      <td>3.0</td>\n",
       "      <td>15.0</td>\n",
       "      <td>18.0</td>\n",
       "    </tr>\n",
       "  </tbody>\n",
       "</table>\n",
       "<p>5318 rows × 6 columns</p>\n",
       "</div>"
      ],
      "text/plain": [
       "        compra  visitas_total  tiempo_en_site_total  paginas_vistas_visita  \\\n",
       "id                                                                           \n",
       "660737       0              0                     0                    0.0   \n",
       "660728       0              5                   674                    2.5   \n",
       "660727       1              2                  1532                    2.0   \n",
       "660719       0              1                   305                    1.0   \n",
       "660681       1              2                  1428                    1.0   \n",
       "...        ...            ...                   ...                    ...   \n",
       "579622       1             13                  1409                    2.6   \n",
       "579546       0              2                   238                    2.0   \n",
       "579545       0              2                   199                    2.0   \n",
       "579538       1              3                   499                    3.0   \n",
       "579533       1              6                  1279                    3.0   \n",
       "\n",
       "        score_actividad  score_perfil  \n",
       "id                                     \n",
       "660737             15.0          15.0  \n",
       "660728             15.0          15.0  \n",
       "660727             14.0          20.0  \n",
       "660719             13.0          17.0  \n",
       "660681             15.0          18.0  \n",
       "...                 ...           ...  \n",
       "579622              NaN           NaN  \n",
       "579546             14.0          19.0  \n",
       "579545             13.0          20.0  \n",
       "579538             15.0          16.0  \n",
       "579533             15.0          18.0  \n",
       "\n",
       "[5318 rows x 6 columns]"
      ]
     },
     "execution_count": 82,
     "metadata": {},
     "output_type": "execute_result"
    }
   ],
   "source": [
    "num"
   ]
  },
  {
   "cell_type": "markdown",
   "id": "5e7d8e7e",
   "metadata": {},
   "source": [
    "## GESTIÓN DE CATEGÓRICAS"
   ]
  },
  {
   "cell_type": "markdown",
   "id": "5b5808b7",
   "metadata": {},
   "source": [
    "### Nulos"
   ]
  },
  {
   "cell_type": "markdown",
   "id": "5c08ca55",
   "metadata": {},
   "source": [
    "#### Identificación"
   ]
  },
  {
   "cell_type": "code",
   "execution_count": 83,
   "id": "da49ae63",
   "metadata": {
    "scrolled": true
   },
   "outputs": [
    {
     "data": {
      "text/plain": [
       "ocupacion                1347\n",
       "ambito                    478\n",
       "ult_actividad              64\n",
       "fuente                     18\n",
       "origen                      0\n",
       "no_enviar_email             0\n",
       "no_llamar                   0\n",
       "conociste_google            0\n",
       "conociste_periodico         0\n",
       "conociste_youtube           0\n",
       "conociste_facebook          0\n",
       "conociste_referencias       0\n",
       "descarga_lm                 0\n",
       "dtype: int64"
      ]
     },
     "execution_count": 83,
     "metadata": {},
     "output_type": "execute_result"
    }
   ],
   "source": [
    "cat.isna().sum().sort_values(ascending = False)"
   ]
  },
  {
   "cell_type": "markdown",
   "id": "ca6c50ae",
   "metadata": {},
   "source": [
    "En ocupacion hay bastantes nulos de 6.000 registros hay 1363 nulos en ocupacion. Pero no lo quito porque realmente ocupacion aunque no haya tanta informacion si que puede ser una de las variables mas interesantes a la hora de sacar predictibilidad."
   ]
  },
  {
   "cell_type": "markdown",
   "id": "6802d575",
   "metadata": {},
   "source": [
    "#### Corrección"
   ]
  },
  {
   "cell_type": "code",
   "execution_count": 84,
   "id": "12389e6f",
   "metadata": {},
   "outputs": [
    {
     "data": {
      "text/plain": [
       "ocupacion\n",
       "Unemployed              3376\n",
       "Working Professional     437\n",
       "Student                  137\n",
       "Other                      8\n",
       "Housewife                  7\n",
       "Businessman                6\n",
       "Name: count, dtype: int64"
      ]
     },
     "execution_count": 84,
     "metadata": {},
     "output_type": "execute_result"
    }
   ],
   "source": [
    "cat.ocupacion.value_counts()"
   ]
  },
  {
   "cell_type": "markdown",
   "id": "a64663f9",
   "metadata": {},
   "source": [
    "La gran mayoria son desempleados, mejor imputar por la moda, asi los que no han dicho nada que sean desempleados"
   ]
  },
  {
   "cell_type": "code",
   "execution_count": 85,
   "id": "8ba191a4",
   "metadata": {},
   "outputs": [
    {
     "data": {
      "text/plain": [
       "ambito\n",
       "Select                               857\n",
       "Finance Management                   656\n",
       "Marketing Management                 573\n",
       "Human Resource Management            560\n",
       "Operations Management                340\n",
       "Business Administration              278\n",
       "IT Projects Management               255\n",
       "Supply Chain Management              237\n",
       "Banking, Investment And Insurance    233\n",
       "Media and Advertising                148\n",
       "Travel and Tourism                   142\n",
       "International Business               117\n",
       "Healthcare Management                101\n",
       "E-COMMERCE                            80\n",
       "Hospitality Management                75\n",
       "Retail Management                     66\n",
       "Rural and Agribusiness                55\n",
       "E-Business                            39\n",
       "Services Excellence                   28\n",
       "Name: count, dtype: int64"
      ]
     },
     "execution_count": 85,
     "metadata": {},
     "output_type": "execute_result"
    }
   ],
   "source": [
    "cat.ambito.value_counts()"
   ]
  },
  {
   "cell_type": "markdown",
   "id": "c0b95d2d",
   "metadata": {},
   "source": [
    "Puedo poner los nulos por la moda, como Select"
   ]
  },
  {
   "cell_type": "code",
   "execution_count": 86,
   "id": "e93d3f2c",
   "metadata": {},
   "outputs": [
    {
     "data": {
      "text/plain": [
       "ult_actividad\n",
       "Email Opened                    2016\n",
       "SMS Sent                        1615\n",
       "Page Visited on Website          449\n",
       "Chat Conversation                293\n",
       "Converted to Lead                286\n",
       "Email Bounced                    214\n",
       "Email Link Clicked               149\n",
       "Form Submitted on Website         83\n",
       "Unreachable                       66\n",
       "Unsubscribed                      46\n",
       "Had a Phone Conversation          20\n",
       "Approached upfront                 7\n",
       "View in browser link Clicked       5\n",
       "Email Received                     2\n",
       "Visited Booth in Tradeshow         1\n",
       "Resubscribed to emails             1\n",
       "Email Marked Spam                  1\n",
       "Name: count, dtype: int64"
      ]
     },
     "execution_count": 86,
     "metadata": {},
     "output_type": "execute_result"
    }
   ],
   "source": [
    "cat.ult_actividad.value_counts()"
   ]
  },
  {
   "cell_type": "markdown",
   "id": "544da60c",
   "metadata": {},
   "source": [
    "Este no lo imputaria por la moda, ya que estos decir que la ultima actividad fue abrir un mail no tiene sentido, es arriesgar mucho. "
   ]
  },
  {
   "cell_type": "code",
   "execution_count": 87,
   "id": "e1b4df52",
   "metadata": {},
   "outputs": [
    {
     "data": {
      "text/plain": [
       "fuente\n",
       "Google               2001\n",
       "Direct Traffic       1787\n",
       "Organic Search        813\n",
       "Chat                  333\n",
       "Reference             235\n",
       "Referral Sites         81\n",
       "Facebook               35\n",
       "google                  3\n",
       "Click2call              3\n",
       "bing                    3\n",
       "Live Chat               2\n",
       "blog                    1\n",
       "Pay per Click Ads       1\n",
       "Press_Release           1\n",
       "Social Media            1\n",
       "Name: count, dtype: int64"
      ]
     },
     "execution_count": 87,
     "metadata": {},
     "output_type": "execute_result"
    }
   ],
   "source": [
    "cat.fuente.value_counts()"
   ]
  },
  {
   "cell_type": "markdown",
   "id": "2d0d355b",
   "metadata": {},
   "source": [
    "Hay muchos de google pero tambien de Direct Traffic, entonces no imputo por la moda, entonces lo imputo por desconocido"
   ]
  },
  {
   "cell_type": "markdown",
   "id": "cdd2db55",
   "metadata": {},
   "source": [
    "##### Eliminar registros"
   ]
  },
  {
   "cell_type": "markdown",
   "id": "b4e07bb7",
   "metadata": {},
   "source": [
    "No elimino nada porque de num hay pocas variables, 6 solo, y realmente si borro de num tengo que borrar tambien de categorica"
   ]
  },
  {
   "cell_type": "markdown",
   "id": "ebeb52a6",
   "metadata": {},
   "source": [
    "##### Imputar por un valor"
   ]
  },
  {
   "cell_type": "markdown",
   "id": "2cba1c3c",
   "metadata": {},
   "source": [
    "###### Variables a imputar"
   ]
  },
  {
   "cell_type": "code",
   "execution_count": 88,
   "id": "4050ef9f",
   "metadata": {},
   "outputs": [],
   "source": [
    "var_imputar_valor = ['origen',\n",
    " 'fuente',\n",
    " 'no_enviar_email',\n",
    " 'no_llamar',\n",
    " 'ult_actividad',\n",
    " 'conociste_google',\n",
    " 'conociste_periodico',\n",
    " 'conociste_facebook',\n",
    " 'conociste_referencias',\n",
    " 'descarga_lm']"
   ]
  },
  {
   "cell_type": "markdown",
   "id": "e75bafc5",
   "metadata": {},
   "source": [
    "Al final me doy cuenta que para la industrializacion lo mejor es pasar todas las variables que no sean ocupacion y ambito a un valor por si en un futuro entran estos \"DESCONOCIDOS\""
   ]
  },
  {
   "cell_type": "code",
   "execution_count": 89,
   "id": "45ecf591",
   "metadata": {},
   "outputs": [
    {
     "data": {
      "text/plain": [
       "['origen',\n",
       " 'fuente',\n",
       " 'no_enviar_email',\n",
       " 'no_llamar',\n",
       " 'ult_actividad',\n",
       " 'ambito',\n",
       " 'ocupacion',\n",
       " 'conociste_google',\n",
       " 'conociste_periodico',\n",
       " 'conociste_youtube',\n",
       " 'conociste_facebook',\n",
       " 'conociste_referencias',\n",
       " 'descarga_lm']"
      ]
     },
     "execution_count": 89,
     "metadata": {},
     "output_type": "execute_result"
    }
   ],
   "source": [
    "cat.columns.to_list()"
   ]
  },
  {
   "cell_type": "markdown",
   "id": "fa866ac6",
   "metadata": {},
   "source": [
    "###### Valor por el que imputar"
   ]
  },
  {
   "cell_type": "code",
   "execution_count": 90,
   "id": "10abb34a",
   "metadata": {},
   "outputs": [],
   "source": [
    "valor = 'DESCONOCIDO'"
   ]
  },
  {
   "cell_type": "markdown",
   "id": "78d10252",
   "metadata": {},
   "source": [
    "###### Imputar"
   ]
  },
  {
   "cell_type": "code",
   "execution_count": 91,
   "id": "f16e8491",
   "metadata": {},
   "outputs": [],
   "source": [
    "cat[var_imputar_valor] = cat[var_imputar_valor].fillna(valor)"
   ]
  },
  {
   "cell_type": "markdown",
   "id": "c111e44d",
   "metadata": {},
   "source": [
    "##### Imputar por la moda"
   ]
  },
  {
   "cell_type": "markdown",
   "id": "4c1a9c46",
   "metadata": {},
   "source": [
    "###### Variables a imputar"
   ]
  },
  {
   "cell_type": "code",
   "execution_count": 92,
   "id": "cf4cee3d",
   "metadata": {},
   "outputs": [],
   "source": [
    "var_imputar_moda = ['ocupacion','ambito']"
   ]
  },
  {
   "cell_type": "markdown",
   "id": "e3a31c7d",
   "metadata": {},
   "source": [
    "###### Funcion para imputar con la moda"
   ]
  },
  {
   "cell_type": "code",
   "execution_count": 93,
   "id": "6d7c902b",
   "metadata": {},
   "outputs": [],
   "source": [
    "def imputar_moda(variable):\n",
    "    return(variable.fillna(variable.mode()[0]))"
   ]
  },
  {
   "cell_type": "markdown",
   "id": "b2c3ceba",
   "metadata": {},
   "source": [
    "###### Imputar con la moda"
   ]
  },
  {
   "cell_type": "code",
   "execution_count": 94,
   "id": "5f5184ef",
   "metadata": {},
   "outputs": [],
   "source": [
    "cat[var_imputar_moda] = cat[var_imputar_moda].apply(imputar_moda)"
   ]
  },
  {
   "cell_type": "code",
   "execution_count": 95,
   "id": "15c711a1",
   "metadata": {},
   "outputs": [
    {
     "data": {
      "text/plain": [
       "origen                   0\n",
       "fuente                   0\n",
       "no_enviar_email          0\n",
       "no_llamar                0\n",
       "ult_actividad            0\n",
       "ambito                   0\n",
       "ocupacion                0\n",
       "conociste_google         0\n",
       "conociste_periodico      0\n",
       "conociste_youtube        0\n",
       "conociste_facebook       0\n",
       "conociste_referencias    0\n",
       "descarga_lm              0\n",
       "dtype: int64"
      ]
     },
     "execution_count": 95,
     "metadata": {},
     "output_type": "execute_result"
    }
   ],
   "source": [
    "#Confirmo que no hay mas nulos\n",
    "\n",
    "cat.isna().sum().sort_values()"
   ]
  },
  {
   "cell_type": "markdown",
   "id": "913cd65d",
   "metadata": {},
   "source": [
    "### Atípicos"
   ]
  },
  {
   "cell_type": "markdown",
   "id": "5a575397",
   "metadata": {},
   "source": [
    "#### Categorías poco frecuentes"
   ]
  },
  {
   "cell_type": "code",
   "execution_count": 96,
   "id": "d0f1c26d",
   "metadata": {},
   "outputs": [
    {
     "data": {
      "text/plain": [
       "fuente\n",
       "Google               2001\n",
       "Direct Traffic       1787\n",
       "Organic Search        813\n",
       "Chat                  333\n",
       "Reference             235\n",
       "Referral Sites         81\n",
       "Facebook               35\n",
       "DESCONOCIDO            18\n",
       "google                  3\n",
       "Click2call              3\n",
       "bing                    3\n",
       "Live Chat               2\n",
       "blog                    1\n",
       "Pay per Click Ads       1\n",
       "Press_Release           1\n",
       "Social Media            1\n",
       "Name: count, dtype: int64"
      ]
     },
     "execution_count": 96,
     "metadata": {},
     "output_type": "execute_result"
    }
   ],
   "source": [
    "cat.fuente.value_counts()"
   ]
  },
  {
   "cell_type": "markdown",
   "id": "1e891330",
   "metadata": {},
   "source": [
    "Aqui mirando todas las variables, realmente hay muchas que tiene pocos datos, como por ejemplo una que es en fuente google en minuscula y luego Google en mayuscula. Voy a hacer una gestion general de todo el df categorico"
   ]
  },
  {
   "cell_type": "markdown",
   "id": "e88c9f39",
   "metadata": {},
   "source": [
    "##### Función para agrupar categorías raras en 'OTROS'"
   ]
  },
  {
   "cell_type": "code",
   "execution_count": 97,
   "id": "c59f8d06",
   "metadata": {},
   "outputs": [],
   "source": [
    "def agrupar_cat_raras(variable, criterio = 0.05):\n",
    "    #Calcula las frecuencias\n",
    "    frecuencias = variable.value_counts(normalize=True)\n",
    "    #Identifica las que están por debajo del criterio\n",
    "    temp = [cada for cada in frecuencias.loc[frecuencias < criterio].index.values]\n",
    "    #Las recodifica en 'OTROS'\n",
    "    temp2 = np.where(variable.isin(temp),'OTROS',variable)\n",
    "    #Devuelve el resultado\n",
    "    return(temp2)"
   ]
  },
  {
   "cell_type": "markdown",
   "id": "4205e067",
   "metadata": {},
   "source": [
    "##### Variables a imputar"
   ]
  },
  {
   "cell_type": "code",
   "execution_count": 98,
   "id": "08672125",
   "metadata": {},
   "outputs": [
    {
     "data": {
      "text/plain": [
       "['origen',\n",
       " 'fuente',\n",
       " 'no_enviar_email',\n",
       " 'no_llamar',\n",
       " 'ult_actividad',\n",
       " 'ambito',\n",
       " 'ocupacion',\n",
       " 'conociste_google',\n",
       " 'conociste_periodico',\n",
       " 'conociste_youtube',\n",
       " 'conociste_facebook',\n",
       " 'conociste_referencias',\n",
       " 'descarga_lm']"
      ]
     },
     "execution_count": 98,
     "metadata": {},
     "output_type": "execute_result"
    }
   ],
   "source": [
    "cat.columns.to_list()"
   ]
  },
  {
   "cell_type": "code",
   "execution_count": 99,
   "id": "ec35c874",
   "metadata": {},
   "outputs": [],
   "source": [
    "var_imputar_moda = cat.columns.to_list()"
   ]
  },
  {
   "cell_type": "markdown",
   "id": "5eaca402",
   "metadata": {},
   "source": [
    "##### Aplicar"
   ]
  },
  {
   "cell_type": "code",
   "execution_count": 100,
   "id": "53dc0eb6",
   "metadata": {},
   "outputs": [
    {
     "data": {
      "text/plain": [
       "120.0"
      ]
     },
     "execution_count": 100,
     "metadata": {},
     "output_type": "execute_result"
    }
   ],
   "source": [
    "6000*0.02"
   ]
  },
  {
   "cell_type": "markdown",
   "id": "9d2ee361",
   "metadata": {},
   "source": [
    "Todas las variables que tienen un conteo de registros por debajo de 120 entonces las imputo por la moda"
   ]
  },
  {
   "cell_type": "code",
   "execution_count": 101,
   "id": "2b187bc7",
   "metadata": {},
   "outputs": [],
   "source": [
    "for variable in var_imputar_moda:\n",
    "    cat[variable] = agrupar_cat_raras(cat[variable],criterio = 0.02)"
   ]
  },
  {
   "cell_type": "markdown",
   "id": "5c3cac88",
   "metadata": {},
   "source": [
    "## Gestion Numericas"
   ]
  },
  {
   "cell_type": "markdown",
   "id": "d65bd06a",
   "metadata": {},
   "source": [
    "### Nulos"
   ]
  },
  {
   "cell_type": "markdown",
   "id": "e5ee8416",
   "metadata": {},
   "source": [
    "#### Identificación"
   ]
  },
  {
   "cell_type": "code",
   "execution_count": 102,
   "id": "c9f054a3",
   "metadata": {},
   "outputs": [
    {
     "data": {
      "text/plain": [
       "score_actividad          2349\n",
       "score_perfil             2349\n",
       "visitas_total              87\n",
       "paginas_vistas_visita      87\n",
       "compra                      0\n",
       "tiempo_en_site_total        0\n",
       "dtype: int64"
      ]
     },
     "execution_count": 102,
     "metadata": {},
     "output_type": "execute_result"
    }
   ],
   "source": [
    "num.isna().sum().sort_values(ascending = False)"
   ]
  },
  {
   "cell_type": "markdown",
   "id": "4d365249",
   "metadata": {},
   "source": [
    "Bastantes nulos en score_perfil y score_actividad (aprox un 30%)\n",
    "\n",
    "Puede ser una variable interesante entonces mejor no la quito, si mas adelante veo que no es nada predictivo entonces la quito al final. De momento lo imputo"
   ]
  },
  {
   "cell_type": "markdown",
   "id": "214264cb",
   "metadata": {},
   "source": [
    "##### Imputar por la media"
   ]
  },
  {
   "cell_type": "code",
   "execution_count": 103,
   "id": "9a463b32",
   "metadata": {},
   "outputs": [
    {
     "data": {
      "image/png": "[encoded data removed]",
      "text/plain": [
       "<Figure size 640x480 with 1 Axes>"
      ]
     },
     "metadata": {},
     "output_type": "display_data"
    }
   ],
   "source": [
    "num['score_actividad'].value_counts().plot(kind='bar');"
   ]
  },
  {
   "cell_type": "markdown",
   "id": "08011d27",
   "metadata": {},
   "source": [
    "Como la variable no esta normalmente distribuida lo mejor es que lo impute por la mediana\n",
    "\n",
    "De todos modos en general lo mejor suele ser imputarlo por la mediana, suele ser buena opcion en distribuciones normales y sesgadas"
   ]
  },
  {
   "cell_type": "markdown",
   "id": "649c19f3",
   "metadata": {},
   "source": [
    "##### Imputar por la mediana"
   ]
  },
  {
   "cell_type": "markdown",
   "id": "d22ea297",
   "metadata": {},
   "source": [
    "###### Variables a imputar"
   ]
  },
  {
   "cell_type": "markdown",
   "id": "1e549573",
   "metadata": {},
   "source": [
    "Las imputo todas al final porque solo hay dos que no tienen nulos, que en este dataset no tenga nulos no significa que en el futuro no pueda tener nulos la variable. Entonces los mejor es hacer la imputacion por la mediana a todo."
   ]
  },
  {
   "cell_type": "code",
   "execution_count": 104,
   "id": "37e4d7f6",
   "metadata": {},
   "outputs": [],
   "source": [
    "var_imputar_mediana = num.columns.to_list()"
   ]
  },
  {
   "cell_type": "markdown",
   "id": "432c371c",
   "metadata": {},
   "source": [
    "###### Funcion para imputar con la mediana"
   ]
  },
  {
   "cell_type": "code",
   "execution_count": 105,
   "id": "66679233",
   "metadata": {},
   "outputs": [],
   "source": [
    "def imputar_mediana(variable):\n",
    "    if pd.api.types.is_integer_dtype(variable):\n",
    "        return(variable.fillna(int(variable.median())))\n",
    "    else:\n",
    "        return(variable.fillna(variable.median()))"
   ]
  },
  {
   "cell_type": "markdown",
   "id": "70d7a1c5",
   "metadata": {},
   "source": [
    "###### Imputar con la mediana"
   ]
  },
  {
   "cell_type": "code",
   "execution_count": 106,
   "id": "887a4106",
   "metadata": {},
   "outputs": [],
   "source": [
    "num[var_imputar_mediana] = num[var_imputar_mediana].apply(imputar_mediana)"
   ]
  },
  {
   "cell_type": "code",
   "execution_count": 107,
   "id": "48570b1f",
   "metadata": {},
   "outputs": [
    {
     "data": {
      "text/plain": [
       "compra                   0\n",
       "visitas_total            0\n",
       "tiempo_en_site_total     0\n",
       "paginas_vistas_visita    0\n",
       "score_actividad          0\n",
       "score_perfil             0\n",
       "dtype: int64"
      ]
     },
     "execution_count": 107,
     "metadata": {},
     "output_type": "execute_result"
    }
   ],
   "source": [
    "num.isna().sum().sort_values(ascending = False)"
   ]
  },
  {
   "cell_type": "markdown",
   "id": "3166851c",
   "metadata": {},
   "source": [
    "todo ok"
   ]
  },
  {
   "cell_type": "markdown",
   "id": "82cb56e8",
   "metadata": {},
   "source": [
    "### Atípicos"
   ]
  },
  {
   "cell_type": "markdown",
   "id": "760baf8c",
   "metadata": {},
   "source": [
    "#### Por desviación típica"
   ]
  },
  {
   "cell_type": "markdown",
   "id": "4b508149",
   "metadata": {},
   "source": [
    "##### Identificación"
   ]
  },
  {
   "cell_type": "markdown",
   "id": "8ceda3d3",
   "metadata": {},
   "source": [
    "###### Definir el número de desviaciones típicas"
   ]
  },
  {
   "cell_type": "markdown",
   "id": "79e7d3b7-40bb-46df-a463-60aac9f5687a",
   "metadata": {},
   "source": [
    "Este método consiste en considerar atípico todo dato que esté más alejado de la media que X desviaciones típicas.\n",
    "\n",
    "Es uno de los métodos más clásicos. NO hay un parametro cientifico de lo que mas se deberia usar\n",
    "\n",
    "Aunque hay que tener en cuenta que en teoría sólo se debería aplicar si la distribución de la variable es normal. Aun asi, si funciona bien, lo uso. Tampoco es tecnicamente correcto, ahora bien a nivel practico si funciona, funciona.\n",
    "\n",
    "**Se suele usar X = 3 solo en datasets pequeños, que en una normal supondría valores fuera del 99,7% más frecuentes.**\n",
    "\n",
    "En datasets con muchos registros se puede usar X = 4."
   ]
  },
  {
   "cell_type": "code",
   "execution_count": 108,
   "id": "2b7419cb",
   "metadata": {},
   "outputs": [],
   "source": [
    "num_desv_tip = 4"
   ]
  },
  {
   "cell_type": "markdown",
   "id": "942da237",
   "metadata": {},
   "source": [
    "###### Función que devuelve los índices de los atípicos"
   ]
  },
  {
   "cell_type": "code",
   "execution_count": 109,
   "id": "8a81f494",
   "metadata": {},
   "outputs": [],
   "source": [
    "def atipicos_desv_tip(variable, num_desv_tip = 4):\n",
    "    #saco los nulos por ahora\n",
    "    variable = variable.dropna()\n",
    "    #calculo los límites\n",
    "    media = np.mean(variable)\n",
    "    sd = np.std(variable)\n",
    "    umbral = sd * num_desv_tip\n",
    "    lim_inf = media - umbral\n",
    "    lim_sup = media + umbral\n",
    "    #encuentra los índices de los que están fuera de los límites\n",
    "    indices = [indice for indice,valor in variable.items() if valor < lim_inf or valor > lim_sup]\n",
    "    return(indices)"
   ]
  },
  {
   "cell_type": "markdown",
   "id": "768e7398",
   "metadata": {},
   "source": [
    "###### Función que cuenta el número de atípicos"
   ]
  },
  {
   "cell_type": "code",
   "execution_count": 110,
   "id": "5c8f4462",
   "metadata": {},
   "outputs": [],
   "source": [
    "def conteo_atipicos(df,variable, num_desv_tip = 4):\n",
    "    atipicos = atipicos_desv_tip(df[variable], num_desv_tip)\n",
    "    return(df.loc[atipicos,variable].value_counts())"
   ]
  },
  {
   "cell_type": "markdown",
   "id": "5cd1e425",
   "metadata": {},
   "source": [
    "###### Variables a aplicar"
   ]
  },
  {
   "cell_type": "code",
   "execution_count": 111,
   "id": "5ac8451d-0860-440d-9832-efc19a5ef537",
   "metadata": {},
   "outputs": [],
   "source": [
    "var_atipicos_dt = num.columns.to_list()"
   ]
  },
  {
   "cell_type": "markdown",
   "id": "ac400ced",
   "metadata": {},
   "source": [
    "###### Aplicar"
   ]
  },
  {
   "cell_type": "code",
   "execution_count": 112,
   "id": "acf8a72d-1837-4479-a07e-8cf087b544a2",
   "metadata": {
    "scrolled": true
   },
   "outputs": [
    {
     "name": "stdout",
     "output_type": "stream",
     "text": [
      "\n",
      "compra:\n",
      "\n",
      "Series([], Name: count, dtype: int64)\n",
      "\n",
      "visitas_total:\n",
      "\n",
      "visitas_total\n",
      "27     5\n",
      "29     2\n",
      "43     1\n",
      "30     1\n",
      "55     1\n",
      "141    1\n",
      "74     1\n",
      "41     1\n",
      "251    1\n",
      "32     1\n",
      "26     1\n",
      "28     1\n",
      "42     1\n",
      "Name: count, dtype: Int64\n",
      "\n",
      "tiempo_en_site_total:\n",
      "\n",
      "Series([], Name: count, dtype: int64)\n",
      "\n",
      "paginas_vistas_visita:\n",
      "\n",
      "paginas_vistas_visita\n",
      "12.00    5\n",
      "14.00    5\n",
      "13.00    4\n",
      "15.00    3\n",
      "55.00    1\n",
      "16.00    1\n",
      "12.33    1\n",
      "14.50    1\n",
      "11.50    1\n",
      "Name: count, dtype: int64\n",
      "\n",
      "score_actividad:\n",
      "\n",
      "score_actividad\n",
      "10.0    31\n",
      "9.0      7\n",
      "18.0     4\n",
      "8.0      3\n",
      "Name: count, dtype: int64\n",
      "\n",
      "score_perfil:\n",
      "\n",
      "Series([], Name: count, dtype: int64)\n"
     ]
    }
   ],
   "source": [
    "for variable in var_atipicos_dt:\n",
    "    print('\\n' + variable + ':\\n')\n",
    "    print(conteo_atipicos(num,variable,num_desv_tip))"
   ]
  },
  {
   "cell_type": "markdown",
   "id": "b6fbed4f",
   "metadata": {},
   "source": [
    "Visitas totales: hay un caso con 141 visitas, eso es raro. 42 visitas es raro tambien, defino un maximo de 50, mas es raro. esto me lo apunto.\n",
    "\n",
    "paginas_vistas_visita: establezco un maximo de 20, eso ya parece raro\n",
    "\n",
    "score_actividad:no esta muy claro como esta establecido, se supone que es algo que calcula la propia empresa asi que no toco nada.\n",
    "\n",
    "\n",
    "Parecen mejor ser corregidas por Winsorizacion manual"
   ]
  },
  {
   "cell_type": "markdown",
   "id": "5b2ac9d2-13db-4cab-b3a1-b48c43cb4a39",
   "metadata": {},
   "source": [
    "### Winsorización Manual"
   ]
  },
  {
   "cell_type": "code",
   "execution_count": 60,
   "id": "9cd181ea",
   "metadata": {},
   "outputs": [
    {
     "name": "stdout",
     "output_type": "stream",
     "text": [
      "<class 'pandas.core.frame.DataFrame'>\n",
      "Index: 5318 entries, 660737 to 579533\n",
      "Data columns (total 6 columns):\n",
      " #   Column                 Non-Null Count  Dtype  \n",
      "---  ------                 --------------  -----  \n",
      " 0   compra                 5318 non-null   int64  \n",
      " 1   visitas_total          5318 non-null   Int64  \n",
      " 2   tiempo_en_site_total   5318 non-null   int64  \n",
      " 3   paginas_vistas_visita  5318 non-null   float64\n",
      " 4   score_actividad        5318 non-null   float64\n",
      " 5   score_perfil           5318 non-null   float64\n",
      "dtypes: Int64(1), float64(3), int64(2)\n",
      "memory usage: 296.0 KB\n"
     ]
    }
   ],
   "source": [
    "num.info()"
   ]
  },
  {
   "cell_type": "code",
   "execution_count": 113,
   "id": "0db8900a",
   "metadata": {},
   "outputs": [],
   "source": [
    "num['visitas_total'].clip(0,50, inplace=True)\n",
    "num['paginas_vistas_visita'].clip(0,20, inplace=True)"
   ]
  },
  {
   "cell_type": "code",
   "execution_count": 114,
   "id": "0572c17d",
   "metadata": {},
   "outputs": [
    {
     "data": {
      "text/plain": [
       "Series([], Name: count, dtype: Int64)"
      ]
     },
     "execution_count": 114,
     "metadata": {},
     "output_type": "execute_result"
    }
   ],
   "source": [
    "num[num.visitas_total > 50]['visitas_total'].value_counts()"
   ]
  },
  {
   "cell_type": "code",
   "execution_count": 115,
   "id": "a34b29c2",
   "metadata": {},
   "outputs": [
    {
     "data": {
      "text/plain": [
       "(5318, 13)"
      ]
     },
     "execution_count": 115,
     "metadata": {},
     "output_type": "execute_result"
    }
   ],
   "source": [
    "cat.shape"
   ]
  },
  {
   "cell_type": "code",
   "execution_count": 116,
   "id": "cfe67491",
   "metadata": {},
   "outputs": [
    {
     "data": {
      "text/plain": [
       "(5318, 6)"
      ]
     },
     "execution_count": 116,
     "metadata": {},
     "output_type": "execute_result"
    }
   ],
   "source": [
    "num.shape"
   ]
  },
  {
   "cell_type": "markdown",
   "id": "f574fff9",
   "metadata": {},
   "source": [
    "Parece todo correcto, mismo numero de registros"
   ]
  },
  {
   "cell_type": "markdown",
   "id": "0f6b1e4a",
   "metadata": {},
   "source": [
    "## GUARDAR DATASETS TRAS CALIDAD DE DATOS"
   ]
  },
  {
   "cell_type": "markdown",
   "id": "1e211b09",
   "metadata": {},
   "source": [
    "Guarda los avances en df, cat y num con un sufijo para poder guardar o recuperar avances del proyecto.\n",
    "\n",
    "En formato pickle para no perder las modificaciones de metadatos."
   ]
  },
  {
   "cell_type": "markdown",
   "id": "abb12eef",
   "metadata": {},
   "source": [
    "### Definir los nombres de los archivos"
   ]
  },
  {
   "cell_type": "code",
   "execution_count": 117,
   "id": "f83c6f26",
   "metadata": {},
   "outputs": [],
   "source": [
    "ruta_trabajo = ruta_proyecto + '/02_Datos/03_Trabajo/' + 'trabajo_resultado_calidad.pickle'\n",
    "ruta_cat = ruta_proyecto + '/02_Datos/03_Trabajo/' + 'cat_resultado_calidad.pickle'\n",
    "ruta_num = ruta_proyecto + '/02_Datos/03_Trabajo/' + 'num_resultado_calidad.pickle'"
   ]
  },
  {
   "cell_type": "markdown",
   "id": "1699f284",
   "metadata": {},
   "source": [
    "### Guardar los archivos"
   ]
  },
  {
   "cell_type": "code",
   "execution_count": 118,
   "id": "6731887a",
   "metadata": {},
   "outputs": [],
   "source": [
    "df.to_pickle(ruta_trabajo)\n",
    "cat.to_pickle(ruta_cat)\n",
    "num.to_pickle(ruta_num)"
   ]
  }
 ],
 "metadata": {
  "kernelspec": {
   "display_name": "Python 3 (ipykernel)",
   "language": "python",
   "name": "python3"
  },
  "language_info": {
   "codemirror_mode": {
    "name": "ipython",
    "version": 3
   },
   "file_extension": ".py",
   "mimetype": "text/x-python",
   "name": "python",
   "nbconvert_exporter": "python",
   "pygments_lexer": "ipython3",
   "version": "3.11.7"
  },
  "toc": {
   "base_numbering": 1,
   "nav_menu": {},
   "number_sections": true,
   "sideBar": true,
   "skip_h1_title": false,
   "title_cell": "Table of Contents",
   "title_sidebar": "Contents",
   "toc_cell": false,
   "toc_position": {
    "height": "calc(100% - 180px)",
    "left": "10px",
    "top": "150px",
    "width": "209.4px"
   },
   "toc_section_display": true,
   "toc_window_display": true
  },
  "varInspector": {
   "cols": {
    "lenName": 16,
    "lenType": 16,
    "lenVar": 40
   },
   "kernels_config": {
    "python": {
     "delete_cmd_postfix": "",
     "delete_cmd_prefix": "del ",
     "library": "var_list.py",
     "varRefreshCmd": "print(var_dic_list())"
    },
    "r": {
     "delete_cmd_postfix": ") ",
     "delete_cmd_prefix": "rm(",
     "library": "var_list.r",
     "varRefreshCmd": "cat(var_dic_list()) "
    }
   },
   "position": {
    "height": "546.85px",
    "left": "680.75px",
    "right": "20px",
    "top": "118px",
    "width": "350px"
   },
   "types_to_exclude": [
    "module",
    "function",
    "builtin_function_or_method",
    "instance",
    "_Feature"
   ],
   "window_display": false
  }
 },
 "nbformat": 4,
 "nbformat_minor": 5
}
